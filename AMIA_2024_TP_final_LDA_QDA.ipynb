{
 "cells": [
  {
   "cell_type": "markdown",
   "metadata": {
    "id": "bpJ7s_SIVu_I"
   },
   "source": [
    "# Trabajo Práctico Final: Linear/Quadratic Discriminant Analysis (LDA/QDA)\n",
    "\n",
    "### Definición: Clasificador Bayesiano\n",
    "\n",
    "Sean $k$ poblaciones, $x \\in \\mathbb{R}^p$ puede pertenecer a cualquiera $g \\in \\mathcal{G}$ de ellas. Bajo un esquema bayesiano, se define entonces $\\pi_j \\doteq P(G = j)$ la probabilidad *a priori* de que $X$ pertenezca a la clase *j*, y se **asume conocida** la distribución condicional de cada observable dado su clase $f_j \\doteq f_{X|G=j}$.\n",
    "\n",
    "De esta manera dicha probabilidad *a posteriori* resulta\n",
    "$$\n",
    "P(G|_{X=x} = j) = \\frac{f_{X|G=j}(x) \\cdot p_G(j)}{f_X(x)} \\propto f_j(x) \\cdot \\pi_j\n",
    "$$\n",
    "\n",
    "La regla de decisión de Bayes es entonces\n",
    "$$\n",
    "H(x) \\doteq \\arg \\max_{g \\in \\mathcal{G}} \\{ P(G|_{X=x} = j) \\} = \\arg \\max_{g \\in \\mathcal{G}} \\{ f_j(x) \\cdot \\pi_j \\}\n",
    "$$\n",
    "\n",
    "es decir, se predice a $x$ como perteneciente a la población $j$ cuya probabilidad a posteriori es máxima.\n",
    "\n",
    "*Ojo, a no desesperar! $\\pi_j$ no es otra cosa que una constante prefijada, y $f_j$ es, en su esencia, un campo escalar de $x$ a simplemente evaluar.*\n",
    "\n",
    "### Distribución condicional\n",
    "\n",
    "Para los clasificadores de discriminante cuadrático y lineal (QDA/LDA) se asume que $X|_{G=j} \\sim \\mathcal{N}_p(\\mu_j, \\Sigma_j)$, es decir, se asume que cada población sigue una distribución normal.\n",
    "\n",
    "Por definición, se tiene entonces que para una clase $j$:\n",
    "$$\n",
    "f_j(x) = \\frac{1}{(2 \\pi)^\\frac{p}{2} \\cdot |\\Sigma_j|^\\frac{1}{2}} e^{- \\frac{1}{2}(x-\\mu_j)^T \\Sigma_j^{-1} (x- \\mu_j)}\n",
    "$$\n",
    "\n",
    "Aplicando logaritmo (que al ser una función estrictamente creciente no afecta el cálculo de máximos/mínimos), queda algo mucho más práctico de trabajar:\n",
    "\n",
    "$$\n",
    "\\log{f_j(x)} = -\\frac{1}{2}\\log |\\Sigma_j| - \\frac{1}{2} (x-\\mu_j)^T \\Sigma_j^{-1} (x- \\mu_j) + C\n",
    "$$\n",
    "\n",
    "Observar que en este caso $C=-\\frac{p}{2} \\log(2\\pi)$, pero no se tiene en cuenta ya que al tener una constante aditiva en todas las clases, no afecta al cálculo del máximo.\n",
    "\n",
    "### LDA\n",
    "\n",
    "En el caso de LDA se hace una suposición extra, que es $X|_{G=j} \\sim \\mathcal{N}_p(\\mu_j, \\Sigma)$, es decir que las poblaciones no sólo siguen una distribución normal sino que son de igual matriz de covarianzas. Reemplazando arriba se obtiene entonces:\n",
    "\n",
    "$$\n",
    "\\log{f_j(x)} =  -\\frac{1}{2}\\log |\\Sigma| - \\frac{1}{2} (x-\\mu_j)^T \\Sigma^{-1} (x- \\mu_j) + C\n",
    "$$\n",
    "\n",
    "Ahora, como $-\\frac{1}{2}\\log |\\Sigma|$ es común a todas las clases se puede incorporar a la constante aditiva y, distribuyendo y reagrupando términos sobre $(x-\\mu_j)^T \\Sigma^{-1} (x- \\mu_j)$ se obtiene finalmente:\n",
    "\n",
    "$$\n",
    "\\log{f_j(x)} =  \\mu_j^T \\Sigma^{-1} (x- \\frac{1}{2} \\mu_j) + C'\n",
    "$$\n",
    "\n",
    "### Entrenamiento/Ajuste\n",
    "\n",
    "Obsérvese que para ambos modelos, ajustarlos a los datos implica estimar los parámetros $(\\mu_j, \\Sigma_j) \\; \\forall j = 1, \\dots, k$ en el caso de QDA, y $(\\mu_j, \\Sigma)$ para LDA.\n",
    "\n",
    "Estos parámetros se estiman por máxima verosimilitud, de manera que los estimadores resultan:\n",
    "\n",
    "* $\\hat{\\mu}_j = \\bar{x}_j$ el promedio de los $x$ de la clase *j*\n",
    "* $\\hat{\\Sigma}_j = s^2_j$ la matriz de covarianzas estimada para cada clase *j*\n",
    "* $\\hat{\\pi}_j = f_{R_j} = \\frac{n_j}{n}$ la frecuencia relativa de la clase *j* en la muestra\n",
    "* $\\hat{\\Sigma} = \\frac{1}{n} \\sum_{j=1}^k n_j \\cdot s^2_j$ el promedio ponderado (por frecs. relativas) de las matrices de covarianzas de todas las clases. *Observar que se utiliza el estimador de MV y no el insesgado*\n",
    "\n",
    "Es importante notar que si bien todos los $\\mu, \\Sigma$ deben ser estimados, la distribución *a priori* puede no inferirse de los datos sino asumirse previamente, utilizándose como entrada del modelo.\n",
    "\n",
    "### Predicción\n",
    "\n",
    "Para estos modelos, al igual que para cualquier clasificador Bayesiano del tipo antes visto, la estimación de la clase es por método *plug-in* sobre la regla de decisión $H(x)$, es decir devolver la clase que maximiza $\\hat{f}_j(x) \\cdot \\hat{\\pi}_j$, o lo que es lo mismo $\\log\\hat{f}_j(x) + \\log\\hat{\\pi}_j$."
   ]
  },
  {
   "cell_type": "markdown",
   "metadata": {
    "id": "5TDWOgpJWKQa"
   },
   "source": [
    "## Estructura del código"
   ]
  },
  {
   "cell_type": "markdown",
   "metadata": {
    "id": "6yEV8WbiWl6k"
   },
   "source": [
    "## Modelo"
   ]
  },
  {
   "cell_type": "code",
   "execution_count": 104,
   "metadata": {
    "ExecuteTime": {
     "end_time": "2024-06-11T14:35:36.298099Z",
     "start_time": "2024-06-11T14:35:36.293251Z"
    },
    "id": "teF9O9JJmG7Z"
   },
   "outputs": [],
   "source": [
    "import numpy as np\n",
    "from numpy.linalg import det, inv\n",
    "import seaborn as sns\n",
    "import pandas as pd\n",
    "import matplotlib.pyplot as plt"
   ]
  },
  {
   "cell_type": "code",
   "execution_count": 105,
   "metadata": {
    "ExecuteTime": {
     "end_time": "2024-06-11T14:35:36.697378Z",
     "start_time": "2024-06-11T14:35:36.685092Z"
    },
    "id": "sDBLvbTtlwzs"
   },
   "outputs": [],
   "source": [
    "class ClassEncoder:\n",
    "  def fit(self, y):\n",
    "    self.names = np.unique(y)\n",
    "    self.name_to_class = {name:idx for idx, name in enumerate(self.names)}\n",
    "    self.fmt = y.dtype\n",
    "    # Q1: por que no hace falta definir un class_to_name para el mapeo inverso?\n",
    "\n",
    "  def _map_reshape(self, f, arr):\n",
    "    return np.array([f(elem) for elem in arr.flatten()]).reshape(arr.shape)\n",
    "    # Q2: por que hace falta un reshape?\n",
    "\n",
    "  def transform(self, y):\n",
    "    return self._map_reshape(lambda name: self.name_to_class[name], y)\n",
    "\n",
    "  def fit_transform(self, y):\n",
    "    self.fit(y)\n",
    "    return self.transform(y)\n",
    "\n",
    "  def detransform(self, y_hat):\n",
    "    return self._map_reshape(lambda idx: self.names[idx], y_hat)"
   ]
  },
  {
   "cell_type": "code",
   "execution_count": 106,
   "metadata": {
    "ExecuteTime": {
     "end_time": "2024-06-11T14:35:37.771774Z",
     "start_time": "2024-06-11T14:35:37.761683Z"
    },
    "id": "m0KYC8_uSOu4"
   },
   "outputs": [],
   "source": [
    "class BaseBayesianClassifier:\n",
    "  def __init__(self):\n",
    "    self.encoder = ClassEncoder()\n",
    "\n",
    "  def _estimate_a_priori(self, y):\n",
    "    a_priori = np.bincount(y.flatten().astype(int)) / y.size\n",
    "    # Q3: para que sirve bincount?\n",
    "    return np.log(a_priori)\n",
    "\n",
    "  def _fit_params(self, X, y):\n",
    "    # estimate all needed parameters for given model\n",
    "    raise NotImplementedError()\n",
    "\n",
    "  def _predict_log_conditional(self, x, class_idx):\n",
    "    # predict the log(P(x|G=class_idx)), the log of the conditional probability of x given the class\n",
    "    # this should depend on the model used\n",
    "    raise NotImplementedError()\n",
    "\n",
    "  def fit(self, X, y, a_priori=None):\n",
    "    # first encode the classes\n",
    "    y = self.encoder.fit_transform(y)\n",
    " \n",
    "    # if it's needed, estimate a priori probabilities\n",
    "    self.log_a_priori = self._estimate_a_priori(y) if a_priori is None else np.log(a_priori)\n",
    "    \n",
    "    # check that a_priori has the correct number of classes\n",
    "    assert len(self.log_a_priori) == len(self.encoder.names), \"A priori probabilities do not match number of classes\"\n",
    "\n",
    "    # now that everything else is in place, estimate all needed parameters for given model\n",
    "    self._fit_params(X, y)\n",
    "    # Q4: por que el _fit_params va al final? no se puede mover a, por ejemplo, antes de la priori?\n",
    "\n",
    "  def predict(self, X):\n",
    "    # this is actually an individual prediction encased in a for-loop\n",
    "    m_obs = X.shape[1]\n",
    "    y_hat = np.empty(m_obs, dtype=self.encoder.fmt)\n",
    "\n",
    "    for i in range(m_obs):\n",
    "      encoded_y_hat_i = self._predict_one(X[:,i].reshape(-1,1))\n",
    "      y_hat[i] = self.encoder.names[encoded_y_hat_i]\n",
    "\n",
    "    # return prediction as a row vector (matching y)\n",
    "    return y_hat.reshape(1,-1)\n",
    "\n",
    "  def _predict_one(self, x):\n",
    "    # calculate all log posteriori probabilities (actually, +C)\n",
    "    log_posteriori = [ log_a_priori_i + self._predict_log_conditional(x, idx) for idx, log_a_priori_i\n",
    "                  in enumerate(self.log_a_priori) ]\n",
    "\n",
    "    # return the class that has maximum a posteriori probability\n",
    "    return np.argmax(log_posteriori)"
   ]
  },
  {
   "cell_type": "code",
   "execution_count": 107,
   "metadata": {
    "ExecuteTime": {
     "end_time": "2024-06-11T14:35:38.553445Z",
     "start_time": "2024-06-11T14:35:38.546198Z"
    },
    "id": "IRamFdiGDuSR"
   },
   "outputs": [],
   "source": [
    "class QDA(BaseBayesianClassifier):\n",
    "\n",
    "  def _fit_params(self, X, y):\n",
    "    # estimate each covariance matrix\n",
    "    self.inv_covs = [inv(np.cov(X[:,y.flatten()==idx], bias=True))\n",
    "                      for idx in range(len(self.log_a_priori))]\n",
    "    # Q5: por que hace falta el flatten y no se puede directamente X[:,y==idx]?\n",
    "    # Q6: por que se usa bias=True en vez del default bias=False?\n",
    "    self.means = [X[:,y.flatten()==idx].mean(axis=1, keepdims=True)\n",
    "                  for idx in range(len(self.log_a_priori))]\n",
    "    # Q7: que hace axis=1? por que no axis=0?\n",
    "\n",
    "  def _predict_log_conditional(self, x, class_idx):\n",
    "    # predict the log(P(x|G=class_idx)), the log of the conditional probability of x given the class\n",
    "    # this should depend on the model used\n",
    "    inv_cov = self.inv_covs[class_idx]\n",
    "    unbiased_x =  x - self.means[class_idx]\n",
    "    self.result = 0.5*np.log(det(inv_cov)) -0.5 * unbiased_x.T @ inv_cov @ unbiased_x\n",
    "    # print(f\"Predict log condicitional of {class_idx}: \", self.result)\n",
    "    return self.result\n",
    "  "
   ]
  },
  {
   "cell_type": "code",
   "execution_count": 108,
   "metadata": {
    "ExecuteTime": {
     "end_time": "2024-06-11T14:35:39.106766Z",
     "start_time": "2024-06-11T14:35:39.100736Z"
    },
    "id": "fRtC9HEkO5Hu"
   },
   "outputs": [],
   "source": [
    "class TensorizedQDA(QDA):\n",
    "\n",
    "    def _fit_params(self, X, y):\n",
    "        # ask plain QDA to fit params\n",
    "        super()._fit_params(X,y)\n",
    "\n",
    "        # stack onto new dimension\n",
    "        self.tensor_inv_cov = np.stack(self.inv_covs)\n",
    "        self.tensor_means = np.stack(self.means)\n",
    "\n",
    "    def _predict_log_conditionals(self,x):\n",
    "        # print(\"X:\", x)\n",
    "        \n",
    "        unbiased_x = x - self.tensor_means\n",
    "        # print(\"Unbiased x: \", unbiased_x)\n",
    "        inner_prod = unbiased_x.transpose(0,2,1) @ self.tensor_inv_cov @ unbiased_x\n",
    "        \n",
    "        result = 0.5*np.log(det(self.tensor_inv_cov)) - 0.5 * inner_prod.flatten()\n",
    "        return result\n",
    "        # return 0.5*np.log(det(self.tensor_inv_cov)) - 0.5 * inner_prod.flatten()\n",
    "\n",
    "    def _predict_one(self, x):\n",
    "        # return the class that has maximum a posteriori probability\n",
    "        return np.argmax(self.log_a_priori + self._predict_log_conditionals(x))"
   ]
  },
  {
   "cell_type": "markdown",
   "metadata": {
    "id": "KS_zoK-gWkRf"
   },
   "source": [
    "## Código para pruebas"
   ]
  },
  {
   "cell_type": "markdown",
   "metadata": {
    "id": "nz19b6NJed2A"
   },
   "source": [
    "Seteamos los datos"
   ]
  },
  {
   "cell_type": "code",
   "execution_count": 109,
   "metadata": {
    "ExecuteTime": {
     "end_time": "2024-06-11T14:35:41.313663Z",
     "start_time": "2024-06-11T14:35:41.310538Z"
    },
    "id": "m05KrhUDINVs"
   },
   "outputs": [],
   "source": [
    "# hiperparámetros\n",
    "rng_seed = 6543"
   ]
  },
  {
   "cell_type": "code",
   "execution_count": 110,
   "metadata": {
    "ExecuteTime": {
     "end_time": "2024-06-11T14:35:41.873743Z",
     "start_time": "2024-06-11T14:35:41.721824Z"
    },
    "colab": {
     "base_uri": "https://localhost:8080/"
    },
    "id": "2hkXcoldXOqs",
    "outputId": "2ce8d627-3433-4bdd-d370-85f6b703a7b9"
   },
   "outputs": [
    {
     "name": "stdout",
     "output_type": "stream",
     "text": [
      "X: (150, 4), Y:(150, 1)\n"
     ]
    }
   ],
   "source": [
    "from sklearn.datasets import load_iris, fetch_openml\n",
    "\n",
    "def get_iris_dataset():\n",
    "  data = load_iris()\n",
    "  X_full = data.data\n",
    "  y_full = np.array([data.target_names[y] for y in data.target.reshape(-1,1)])\n",
    "  return X_full, y_full\n",
    "\n",
    "def get_penguins():\n",
    "    # get data\n",
    "    df, tgt = fetch_openml(name=\"penguins\", return_X_y=True, as_frame=True, parser='auto')\n",
    "\n",
    "    # drop non-numeric columns\n",
    "    df.drop(columns=[\"island\",\"sex\"], inplace=True)\n",
    "\n",
    "    # drop rows with missing values\n",
    "    mask = df.isna().sum(axis=1) == 0\n",
    "    df = df[mask]\n",
    "    tgt = tgt[mask]\n",
    "\n",
    "    return df.values, tgt.to_numpy().reshape(-1,1)\n",
    "\n",
    "# showing for iris\n",
    "X_full, y_full = get_iris_dataset()\n",
    "\n",
    "print(f\"X: {X_full.shape}, Y:{y_full.shape}\")"
   ]
  },
  {
   "cell_type": "code",
   "execution_count": 111,
   "metadata": {
    "ExecuteTime": {
     "end_time": "2024-06-11T14:25:38.736858Z",
     "start_time": "2024-06-11T14:25:38.728784Z"
    },
    "colab": {
     "base_uri": "https://localhost:8080/"
    },
    "id": "jAk-UQCjKecT",
    "outputId": "9566d67a-b78b-4809-bb94-8f605b065db6"
   },
   "outputs": [
    {
     "data": {
      "text/plain": [
       "array([[5.1, 3.5, 1.4, 0.2],\n",
       "       [4.9, 3. , 1.4, 0.2],\n",
       "       [4.7, 3.2, 1.3, 0.2],\n",
       "       [4.6, 3.1, 1.5, 0.2],\n",
       "       [5. , 3.6, 1.4, 0.2]])"
      ]
     },
     "execution_count": 111,
     "metadata": {},
     "output_type": "execute_result"
    }
   ],
   "source": [
    "# peek data matrix\n",
    "X_full[:5]"
   ]
  },
  {
   "cell_type": "code",
   "execution_count": 112,
   "metadata": {
    "ExecuteTime": {
     "end_time": "2024-06-11T14:25:39.167682Z",
     "start_time": "2024-06-11T14:25:39.162057Z"
    },
    "colab": {
     "base_uri": "https://localhost:8080/"
    },
    "id": "YdzMURX2KVdO",
    "outputId": "af5fc3ac-b391-4769-de47-44cea4f566c8"
   },
   "outputs": [
    {
     "data": {
      "text/plain": [
       "array([['setosa'],\n",
       "       ['setosa'],\n",
       "       ['setosa'],\n",
       "       ['setosa'],\n",
       "       ['setosa']], dtype='<U10')"
      ]
     },
     "execution_count": 112,
     "metadata": {},
     "output_type": "execute_result"
    }
   ],
   "source": [
    "# peek target vector\n",
    "y_full[:5]"
   ]
  },
  {
   "cell_type": "markdown",
   "metadata": {
    "id": "Kl8UFh1OegbJ"
   },
   "source": [
    "Separamos el dataset en train y test para medir performance"
   ]
  },
  {
   "cell_type": "code",
   "execution_count": 113,
   "metadata": {
    "ExecuteTime": {
     "end_time": "2024-06-11T14:35:44.470563Z",
     "start_time": "2024-06-11T14:35:44.430918Z"
    },
    "colab": {
     "base_uri": "https://localhost:8080/"
    },
    "id": "LKP_QmWCIECs",
    "outputId": "07798c6a-aa54-430e-d46d-becc2a4315ed"
   },
   "outputs": [
    {
     "name": "stdout",
     "output_type": "stream",
     "text": [
      "(4, 90) (1, 90) (4, 60) (1, 60)\n"
     ]
    }
   ],
   "source": [
    "# preparing data, train - test validation\n",
    "# 70-30 split\n",
    "from sklearn.model_selection import train_test_split\n",
    "\n",
    "def split_transpose(X, y, test_sz, random_state):\n",
    "    # split\n",
    "    X_train, X_test, y_train, y_test = train_test_split(X, y, test_size=0.4, random_state=random_state)\n",
    "\n",
    "    # transpose so observations are column vectors\n",
    "    return X_train.T, y_train.T, X_test.T, y_test.T\n",
    "\n",
    "def accuracy(y_true, y_pred):\n",
    "    result = (y_true == y_pred)\n",
    "    return result.mean()\n",
    "\n",
    "train_x, train_y, test_x, test_y = split_transpose(X_full, y_full, 0.4, rng_seed)\n",
    "\n",
    "print(train_x.shape, train_y.shape, test_x.shape, test_y.shape)"
   ]
  },
  {
   "cell_type": "markdown",
   "metadata": {
    "id": "LwgXFPbJemb_"
   },
   "source": [
    "Entrenamos un QDA y medimos su accuracy"
   ]
  },
  {
   "cell_type": "code",
   "execution_count": 114,
   "metadata": {
    "ExecuteTime": {
     "end_time": "2024-06-10T18:27:14.588197Z",
     "start_time": "2024-06-10T18:27:14.555847Z"
    },
    "id": "dGIf2TA5SpoT"
   },
   "outputs": [],
   "source": [
    "qda = QDA()\n",
    "\n",
    "# La funcion fit se puede pasar un tercer parámetro que actuaria como \n",
    "qda.fit(train_x, train_y)"
   ]
  },
  {
   "cell_type": "code",
   "execution_count": 115,
   "metadata": {
    "ExecuteTime": {
     "end_time": "2024-06-10T18:27:14.911856Z",
     "start_time": "2024-06-10T18:27:14.890686Z"
    },
    "colab": {
     "base_uri": "https://localhost:8080/"
    },
    "id": "c0Q30DyLWpTL",
    "outputId": "dbccae86-840c-412f-ed97-22cfac21238a"
   },
   "outputs": [
    {
     "name": "stdout",
     "output_type": "stream",
     "text": [
      "Train (apparent) error is 0.0111 while test error is 0.0167\n"
     ]
    }
   ],
   "source": [
    "train_acc = accuracy(train_y, qda.predict(train_x))\n",
    "test_acc = accuracy(test_y, qda.predict(test_x))\n",
    "print(f\"Train (apparent) error is {1-train_acc:.4f} while test error is {1-test_acc:.4f}\")"
   ]
  },
  {
   "cell_type": "markdown",
   "metadata": {
    "id": "-QcLtNNIevC_"
   },
   "source": [
    "Con el magic %%timeit podemos estimar el tiempo que tarda en correr una celda en base a varias ejecuciones. Por poner un ejemplo, acá vamos a estimar lo que tarda un ciclo completo de QDA y también su inferencia (predicción).\n",
    "\n",
    "Ojo! a veces [puede ser necesario ejecutarlo varias veces](https://stackoverflow.com/questions/10994405/python-timeit-results-cached-instead-of-calculated) para obtener resultados consistentes.\n",
    "\n",
    "Si quieren explorar otros métodos de medición también es válido!"
   ]
  },
  {
   "cell_type": "code",
   "execution_count": 116,
   "metadata": {
    "ExecuteTime": {
     "end_time": "2024-06-10T18:27:18.911011Z",
     "start_time": "2024-06-10T18:27:15.293174Z"
    },
    "colab": {
     "base_uri": "https://localhost:8080/"
    },
    "id": "vnZT-HN2fUuW",
    "outputId": "2618e7c1-7a77-4285-bafb-c2880ad167a1"
   },
   "outputs": [
    {
     "name": "stdout",
     "output_type": "stream",
     "text": [
      "5.46 ms ± 165 µs per loop (mean ± std. dev. of 7 runs, 100 loops each)\n"
     ]
    }
   ],
   "source": [
    "%%timeit\n",
    "\n",
    "qda.predict(test_x)"
   ]
  },
  {
   "cell_type": "code",
   "execution_count": 117,
   "metadata": {
    "ExecuteTime": {
     "end_time": "2024-06-10T18:27:28.217113Z",
     "start_time": "2024-06-10T18:27:18.912718Z"
    },
    "colab": {
     "base_uri": "https://localhost:8080/"
    },
    "id": "kjFbVSqfeHUX",
    "outputId": "0254a727-a1d5-4be3-b73a-2f55d2c84a25"
   },
   "outputs": [
    {
     "name": "stdout",
     "output_type": "stream",
     "text": [
      "6.66 ms ± 99.9 µs per loop (mean ± std. dev. of 7 runs, 100 loops each)\n"
     ]
    }
   ],
   "source": [
    "%%timeit\n",
    "\n",
    "model = QDA()\n",
    "model.fit(train_x, train_y)\n",
    "model.predict(test_x)"
   ]
  },
  {
   "cell_type": "markdown",
   "metadata": {
    "id": "BsDYvwFEEKV5"
   },
   "source": [
    "# Consigna\n"
   ]
  },
  {
   "cell_type": "markdown",
   "metadata": {
    "id": "1Yb1V7_yXRfO"
   },
   "source": [
    "## Implementación base\n",
    "1. Entrenar un modelo QDA sobre el dataset *iris* utilizando las distribuciones *a priori* a continuación ¿Se observan diferencias?¿Por qué cree? _Pista: comparar con las distribuciones del dataset completo, **sin splitear**_.\n",
    "    1. Uniforme (cada clase tiene probabilidad 1/3)\n",
    "    2. Una clase con probabilidad 0.9, las demás 0.05 (probar las 3 combinaciones)\n",
    "2. Repetir el punto anterior para el dataset *penguin*.>\n",
    "3. Implementar el modelo LDA, entrenarlo y testearlo contra los mismos sets que QDA (no múltiples prioris) ¿Se observan diferencias? ¿Podría decirse que alguno de los dos es notoriamente mejor que el otro?\n",
    "4. Utilizar otros 2 (dos) valores de *random seed* para obtener distintos splits de train y test, y repetir la comparación del punto anterior ¿Las conclusiones previas se mantienen?\n",
    "5. Estimar y comparar los tiempos de predicción de las clases `QDA` y `TensorizedQDA`. De haber diferencias ¿Cuáles pueden ser las causas?\n",
    "\n",
    "\n",
    "**Sugerencia:** puede resultar de utilidad para cada inciso de comparación utilizar tablas del siguiente estilo:\n",
    "\n",
    "<center>\n",
    "\n",
    "Modelo | Dataset | Seed | Error (train) | Error (test)\n",
    ":---: | :---: | :---: | :---: | :---:\n",
    "QDA | Iris | 125 | 0.55 | 0.85\n",
    "LDA | Iris | 125 | 0.22 | 0.8\n",
    "\n",
    "</center>\n"
   ]
  },
  {
   "cell_type": "markdown",
   "metadata": {},
   "source": [
    "## 1. Entrenar un modelo QDA sobre el dataset *iris* utilizando las distribuciones *a priori* a continuación ¿Se observan diferencias?¿Por qué cree? _Pista: comparar con las distribuciones del dataset completo, **sin splitear**_."
   ]
  },
  {
   "cell_type": "markdown",
   "metadata": {},
   "source": [
    "### 1.1 Distribución apriori uniforme"
   ]
  },
  {
   "cell_type": "code",
   "execution_count": 118,
   "metadata": {
    "ExecuteTime": {
     "end_time": "2024-06-11T14:35:48.468341Z",
     "start_time": "2024-06-11T14:35:48.459099Z"
    }
   },
   "outputs": [],
   "source": [
    "# Variables globales\n",
    "errors = {}\n",
    "\n",
    "# Preparamos los dataset de evaluación y prueba\n",
    "X_iris_full, y_iris_full = get_iris_dataset()\n",
    "train_iris_x, train_iris_y, test_iris_x, test_iris_y = split_transpose(X_iris_full, y_iris_full, 0.4, rng_seed)"
   ]
  },
  {
   "cell_type": "code",
   "execution_count": 119,
   "metadata": {},
   "outputs": [],
   "source": [
    "def train_evaluate_qda(x_full, y_full, a_priori=None, test_size=0.4, random_state=6543, error_name=\"\"):\n",
    "    train_x, train_y, test_x, test_y = split_transpose(x_full, y_full, test_size, random_state)\n",
    "\n",
    "    qda = QDA()\n",
    "    qda.fit(train_x, train_y, a_priori)\n",
    "\n",
    "\n",
    "    train_acc = accuracy(train_y, qda.predict(train_x))\n",
    "    test_acc = accuracy(test_y, qda.predict(test_x))\n",
    "    print(f\"Train (apparent) error is {1-train_acc:.4f} while test error is {1-test_acc:.4f}\")\n",
    "\n",
    "    result = round(1-train_acc, 4), round(1-test_acc, 4)\n",
    "    if error_name:\n",
    "      errors[error_name] = result\n",
    "\n",
    "    # Returns train and test errors\n",
    "    # return result"
   ]
  },
  {
   "cell_type": "code",
   "execution_count": 120,
   "metadata": {
    "ExecuteTime": {
     "end_time": "2024-06-10T23:00:50.228188Z",
     "start_time": "2024-06-10T23:00:50.225375Z"
    }
   },
   "outputs": [],
   "source": [
    "# %%timeit\n",
    "# Entrenamos el modelo\n",
    "qda_uniforme = QDA()\n",
    "qda_uniforme.fit(train_iris_x, train_iris_y, np.array([1/3, 1/3,1/3]))"
   ]
  },
  {
   "cell_type": "code",
   "execution_count": 121,
   "metadata": {
    "ExecuteTime": {
     "end_time": "2024-06-10T23:02:22.949969Z",
     "start_time": "2024-06-10T23:02:22.936202Z"
    }
   },
   "outputs": [
    {
     "name": "stdout",
     "output_type": "stream",
     "text": [
      "Train (apparent) error is 0.0222 while test error is 0.0167 and full error is 0.0200\n"
     ]
    }
   ],
   "source": [
    "train_acc = accuracy(train_iris_y, qda_uniforme.predict(train_iris_x))\n",
    "test_acc = accuracy(test_iris_y, qda_uniforme.predict(test_iris_x))\n",
    "full_acc = accuracy(y_iris_full.reshape(1,-1), qda_uniforme.predict(X_iris_full.T))\n",
    "# print(train_acc*train_y.size)\n",
    "# print(test_acc*test_y.size)\n",
    "# print(full_acc*y_full.reshape(1,-1).size)\n",
    "print(f\"Train (apparent) error is {(1-train_acc):.4f} while test error is {1-test_acc:.4f} and full error is {1-full_acc:.4f}\")"
   ]
  },
  {
   "cell_type": "markdown",
   "metadata": {},
   "source": [
    "### 2.2 Una clase con probabilidad 0.9, las demás 0.05 (probar las 3 combinaciones)"
   ]
  },
  {
   "cell_type": "code",
   "execution_count": 122,
   "metadata": {
    "ExecuteTime": {
     "end_time": "2024-06-10T23:03:53.165262Z",
     "start_time": "2024-06-10T23:03:53.161232Z"
    }
   },
   "outputs": [
    {
     "name": "stdout",
     "output_type": "stream",
     "text": [
      "Train (apparent) error is 0.0222 while test error is 0.0167\n",
      "Train (apparent) error is 0.0222 while test error is 0.0167\n",
      "Train (apparent) error is 0.0222 while test error is 0.0167\n"
     ]
    }
   ],
   "source": [
    "# Entrenamos el modelo\n",
    "# Vamos a entrenar tres modelos cada uno de ellos tendrá el nombre de la especie más dominante en la distribución\n",
    "\n",
    "qda_setosa = QDA()\n",
    "qda_setosa.fit(train_iris_x, train_iris_y, a_priori=np.array([0.90, 0.05,0.05]))\n",
    "\n",
    "train_evaluate_qda(x_full=X_iris_full, y_full=y_iris_full, a_priori=[0.90, 0.05,0.05], error_name=\"qda_iris_955\")\n",
    "# print(f\"Distribución a prioriri setosa {qda_setosa.log_a_priori}\")\n",
    "\n",
    "qda_versicolor = QDA()\n",
    "qda_versicolor.fit(train_iris_x, train_iris_y, a_priori=np.array([0.05, 0.9,0.05]))\n",
    "\n",
    "train_evaluate_qda(x_full=X_iris_full, y_full=y_iris_full, a_priori=[0.90, 0.05,0.05], error_name=\"qda_iris_595\")\n",
    "# print(f\"Distribución a prioriri versicolor {qda_versicolor.log_a_priori}\")\n",
    "\n",
    "qda_virginica = QDA()\n",
    "qda_virginica.fit(train_iris_x, train_iris_y, a_priori=np.array([0.05, 0.05, 0.9]))\n",
    "\n",
    "train_evaluate_qda(x_full=X_iris_full, y_full=y_iris_full, a_priori=[0.90, 0.05,0.05], error_name=\"qda_iris_559\")\n",
    "# print(f\"Distribución a prioriri virginica {qda_virginica.log_a_priori}\")\n",
    "\n",
    "# print(f\"Distribución a prioriri uniforme {qda_uniforme.log_a_priori}\")"
   ]
  },
  {
   "cell_type": "code",
   "execution_count": 123,
   "metadata": {
    "ExecuteTime": {
     "end_time": "2024-06-10T23:04:19.569791Z",
     "start_time": "2024-06-10T23:04:19.530980Z"
    }
   },
   "outputs": [
    {
     "name": "stdout",
     "output_type": "stream",
     "text": [
      "Ocurrencias de cada especie en el set de entrenamientos [0.3        0.32222222 0.37777778]\n",
      "Ocurrencias de cada especie en el set de test [0.38333333 0.35       0.26666667]\n",
      "\n",
      "\n",
      "Setosa Train (apparent) error is 0.0222 while test error is 0.0167 and full error 0.0200\n",
      "Versicolor Train (apparent) error is 0.0333 while test error is 0.0000 and full error 0.0200\n",
      "Virginica Train (apparent) error is 0.0333 while test error is 0.0500 and full error 0.0400\n"
     ]
    }
   ],
   "source": [
    "# Previmanete saquemos la cantidad de ocurrencias de cada especie en los dataset de entrenamiento y prueba\n",
    "distribution_train = np.bincount(qda_uniforme.encoder.transform(train_iris_y).flatten().astype(int)) / train_iris_y.size\n",
    "distribution_test = np.bincount(qda_uniforme.encoder.transform(test_iris_y).flatten().astype(int)) / test_iris_y.size\n",
    "print(f\"Ocurrencias de cada especie en el set de entrenamientos {distribution_train}\")\n",
    "print(f\"Ocurrencias de cada especie en el set de test {distribution_test}\")\n",
    "print(\"\\n\")\n",
    "\n",
    "# Full dataset\n",
    "\n",
    "setosa_train_acc = accuracy(train_iris_y, qda_setosa.predict(train_iris_x))\n",
    "setosa_test_acc = accuracy(test_iris_y, qda_setosa.predict(test_iris_x))\n",
    "setosa_full_acc = accuracy(y_iris_full.reshape(1,-1), qda_setosa.predict(X_iris_full.T))\n",
    "print(f\"Setosa Train (apparent) error is {1-setosa_train_acc:.4f} while test error is {1-setosa_test_acc:.4f} and full error {1-setosa_full_acc:.4f}\")\n",
    "# print(setosa_train_acc*train_iris_y.size)\n",
    "# print(setosa_test_acc*test_iris_y.size)\n",
    "# print(setosa_full_acc*y_full.reshape(1,-1).size)\n",
    "versicolor_train_acc = accuracy(train_iris_y, qda_versicolor.predict(train_iris_x))\n",
    "versicolor_test_acc = accuracy(test_iris_y, qda_versicolor.predict(test_iris_x))\n",
    "versicolor_full_acc = accuracy(y_iris_full.reshape(1,-1), qda_versicolor.predict(X_iris_full.T))\n",
    "print(f\"Versicolor Train (apparent) error is {1-versicolor_train_acc:.4f} while test error is {1-versicolor_test_acc:.4f} and full error {1-versicolor_full_acc:.4f}\")\n",
    "# print(versicolor_train_acc*train_iris_y.size)\n",
    "# print(versicolor_test_acc*test_iris_y.size)\n",
    "# print(versicolor_full_acc*y_iris_full.reshape(1,-1).size)\n",
    "\n",
    "virginica_train_acc = accuracy(train_iris_y, qda_virginica.predict(train_iris_x))\n",
    "virginica_test_acc = accuracy(test_iris_y, qda_virginica.predict(test_iris_x))\n",
    "virginica_full_acc = accuracy(y_iris_full.reshape(1,-1), qda_virginica.predict(X_iris_full.T))\n",
    "print(f\"Virginica Train (apparent) error is {1-virginica_train_acc:.4f} while test error is {1-virginica_test_acc:.4f} and full error {1-virginica_full_acc:.4f}\")\n",
    "# print(virginica_train_acc*train_iris_y.size)\n",
    "# print(virginica_test_acc*test_iris_y.size)\n",
    "# print(virginica_full_acc*y_iris_full.reshape(1,-1).size)"
   ]
  },
  {
   "cell_type": "markdown",
   "metadata": {},
   "source": [
    "De los resultados obtenidos, no se observan diferencias significativas al entrenar el modelo con las diferentes distribuciones (uniforme y las 3 distribuciones desbalancedas). A nuestro entender, esto se debe a que existe una clara separación entre clases, es decir que las caracteristicas de las tres especies de plantas difieren marcadamente entre si. Esta situación genera que la influencia que genera $\\pi_j sea mínima. A continuación se realiza un gráfico de dispersión para observar la separación de clases. "
   ]
  },
  {
   "cell_type": "code",
   "execution_count": 124,
   "metadata": {
    "ExecuteTime": {
     "end_time": "2024-06-10T13:12:04.927316Z",
     "start_time": "2024-06-10T13:12:04.524743Z"
    }
   },
   "outputs": [
    {
     "data": {
      "image/png": "[encoded data removed]",
      "text/plain": [
       "<Figure size 1000x600 with 1 Axes>"
      ]
     },
     "metadata": {},
     "output_type": "display_data"
    }
   ],
   "source": [
    "data = load_iris()\n",
    "df = pd.DataFrame(data.data, columns=data.feature_names)\n",
    "df['target'] = data.target\n",
    "\n",
    "# Mapear los valores numéricos a nombres de clases\n",
    "df['target'] = df['target'].map({0: 'setosa', 1: 'versicolor', 2: 'virginica'})\n",
    "\n",
    "# Visualización de la separación entre clases usando las dos características más separables\n",
    "plt.figure(figsize=(10, 6))\n",
    "for class_name in data.target_names:\n",
    "    subset = df[df['target'] == class_name]\n",
    "    plt.scatter(subset[data.feature_names[2]], subset[data.feature_names[3]], label=class_name)\n",
    "plt.xlabel(data.feature_names[2])\n",
    "plt.ylabel(data.feature_names[3])\n",
    "plt.legend()\n",
    "plt.title('Separación de Clases en el Conjunto de Datos Iris')\n",
    "plt.show()"
   ]
  },
  {
   "cell_type": "code",
   "execution_count": 125,
   "metadata": {
    "ExecuteTime": {
     "end_time": "2024-06-10T13:12:06.242940Z",
     "start_time": "2024-06-10T13:12:04.928821Z"
    }
   },
   "outputs": [
    {
     "name": "stderr",
     "output_type": "stream",
     "text": [
      "c:\\Users\\joaqu\\anaconda3\\Lib\\site-packages\\seaborn\\_oldcore.py:1119: FutureWarning: use_inf_as_na option is deprecated and will be removed in a future version. Convert inf values to NaN before operating instead.\n",
      "  with pd.option_context('mode.use_inf_as_na', True):\n",
      "c:\\Users\\joaqu\\anaconda3\\Lib\\site-packages\\seaborn\\_oldcore.py:1119: FutureWarning: use_inf_as_na option is deprecated and will be removed in a future version. Convert inf values to NaN before operating instead.\n",
      "  with pd.option_context('mode.use_inf_as_na', True):\n",
      "c:\\Users\\joaqu\\anaconda3\\Lib\\site-packages\\seaborn\\_oldcore.py:1119: FutureWarning: use_inf_as_na option is deprecated and will be removed in a future version. Convert inf values to NaN before operating instead.\n",
      "  with pd.option_context('mode.use_inf_as_na', True):\n",
      "c:\\Users\\joaqu\\anaconda3\\Lib\\site-packages\\seaborn\\_oldcore.py:1119: FutureWarning: use_inf_as_na option is deprecated and will be removed in a future version. Convert inf values to NaN before operating instead.\n",
      "  with pd.option_context('mode.use_inf_as_na', True):\n",
      "c:\\Users\\joaqu\\anaconda3\\Lib\\site-packages\\seaborn\\_oldcore.py:1119: FutureWarning: use_inf_as_na option is deprecated and will be removed in a future version. Convert inf values to NaN before operating instead.\n",
      "  with pd.option_context('mode.use_inf_as_na', True):\n",
      "c:\\Users\\joaqu\\anaconda3\\Lib\\site-packages\\seaborn\\_oldcore.py:1119: FutureWarning: use_inf_as_na option is deprecated and will be removed in a future version. Convert inf values to NaN before operating instead.\n",
      "  with pd.option_context('mode.use_inf_as_na', True):\n",
      "c:\\Users\\joaqu\\anaconda3\\Lib\\site-packages\\seaborn\\_oldcore.py:1119: FutureWarning: use_inf_as_na option is deprecated and will be removed in a future version. Convert inf values to NaN before operating instead.\n",
      "  with pd.option_context('mode.use_inf_as_na', True):\n",
      "c:\\Users\\joaqu\\anaconda3\\Lib\\site-packages\\seaborn\\_oldcore.py:1119: FutureWarning: use_inf_as_na option is deprecated and will be removed in a future version. Convert inf values to NaN before operating instead.\n",
      "  with pd.option_context('mode.use_inf_as_na', True):\n",
      "c:\\Users\\joaqu\\anaconda3\\Lib\\site-packages\\seaborn\\_oldcore.py:1119: FutureWarning: use_inf_as_na option is deprecated and will be removed in a future version. Convert inf values to NaN before operating instead.\n",
      "  with pd.option_context('mode.use_inf_as_na', True):\n",
      "c:\\Users\\joaqu\\anaconda3\\Lib\\site-packages\\seaborn\\_oldcore.py:1119: FutureWarning: use_inf_as_na option is deprecated and will be removed in a future version. Convert inf values to NaN before operating instead.\n",
      "  with pd.option_context('mode.use_inf_as_na', True):\n",
      "c:\\Users\\joaqu\\anaconda3\\Lib\\site-packages\\seaborn\\_oldcore.py:1119: FutureWarning: use_inf_as_na option is deprecated and will be removed in a future version. Convert inf values to NaN before operating instead.\n",
      "  with pd.option_context('mode.use_inf_as_na', True):\n",
      "c:\\Users\\joaqu\\anaconda3\\Lib\\site-packages\\seaborn\\_oldcore.py:1119: FutureWarning: use_inf_as_na option is deprecated and will be removed in a future version. Convert inf values to NaN before operating instead.\n",
      "  with pd.option_context('mode.use_inf_as_na', True):\n"
     ]
    },
    {
     "data": {
      "image/png": "[encoded data removed]",
      "text/plain": [
       "<Figure size 1200x1000 with 4 Axes>"
      ]
     },
     "metadata": {},
     "output_type": "display_data"
    }
   ],
   "source": [
    "features_name = df.drop(columns=['target']).columns\n",
    "\n",
    "df_iris_setosa = df[df['target'] == 'setosa']\n",
    "df_iris_versicolor = df[df['target'] =='versicolor']\n",
    "df_iris_virginica = df[df['target'] == 'virginica']\n",
    "\n",
    "fig, axes = plt.subplots(2, 2, figsize=(12, 10))\n",
    "for i, col in enumerate(features_name):\n",
    "    sns.kdeplot(df_iris_setosa[col], ax=axes[i//2, i%2], color='yellow', legend=True, label='Setosa')\n",
    "    axes[i//2, i%2].set_title(f'Distribución de {col}')\n",
    "    sns.kdeplot(df_iris_versicolor[col], ax=axes[i//2, i%2], color='red', label='Versicolor')\n",
    "    axes[i//2, i%2].set_title(f'Distribución de {col}')\n",
    "    sns.kdeplot(df_iris_virginica[col], ax=axes[i//2, i%2], color='blue', label='Virginica')\n",
    "    axes[i//2, i%2].set_title(f'Distribución de {col}')\n",
    "    \n",
    "plt.legend(loc='lower right')\n",
    "plt.tight_layout()\n",
    "plt.show()"
   ]
  },
  {
   "cell_type": "markdown",
   "metadata": {},
   "source": [
    "## 2. Repetir el punto anterior para el dataset *penguin*."
   ]
  },
  {
   "cell_type": "markdown",
   "metadata": {},
   "source": [
    "### 1.1 Distribución apriori uniforme\n"
   ]
  },
  {
   "cell_type": "code",
   "execution_count": 126,
   "metadata": {
    "ExecuteTime": {
     "end_time": "2024-06-10T23:11:09.847223Z",
     "start_time": "2024-06-10T23:11:09.839116Z"
    }
   },
   "outputs": [],
   "source": [
    "# Preparamos los dataset de evaluación y prueba\n",
    "X_penguins_full, y_penguins_full = get_penguins()\n",
    "train_penguins_x, train_penguins_y, test_penguins_x, test_penguins_y = split_transpose(X_penguins_full, y_penguins_full, 0.4, rng_seed)"
   ]
  },
  {
   "cell_type": "code",
   "execution_count": 127,
   "metadata": {
    "ExecuteTime": {
     "end_time": "2024-06-10T23:11:10.104037Z",
     "start_time": "2024-06-10T23:11:10.100750Z"
    }
   },
   "outputs": [
    {
     "name": "stdout",
     "output_type": "stream",
     "text": [
      "Distribución a prioriri [-1.09861229 -1.09861229 -1.09861229]\n"
     ]
    }
   ],
   "source": [
    "qda_penguin_uniforme = QDA()\n",
    "qda_penguin_uniforme.fit(train_penguins_x, train_penguins_y, np.array([1/3, 1/3,1/3]))\n",
    "\n",
    "print(f\"Distribución a prioriri {qda_penguin_uniforme.log_a_priori}\")"
   ]
  },
  {
   "cell_type": "code",
   "execution_count": 128,
   "metadata": {
    "ExecuteTime": {
     "end_time": "2024-06-10T23:11:10.601393Z",
     "start_time": "2024-06-10T23:11:10.556692Z"
    }
   },
   "outputs": [
    {
     "name": "stdout",
     "output_type": "stream",
     "text": [
      "Train (apparent) error is 0.0098 while test error is 0.0073 and full error is 0.0088\n"
     ]
    }
   ],
   "source": [
    "train_penguins_uniform_acc = accuracy(train_penguins_y, qda_penguin_uniforme.predict(train_penguins_x))\n",
    "test_penguins_uniform_acc = accuracy(test_penguins_y, qda_penguin_uniforme.predict(test_penguins_x))\n",
    "full_penguins_uniform_acc = accuracy(y_penguins_full.reshape(1,-1), qda_penguin_uniforme.predict(X_penguins_full.T))\n",
    "\n",
    "print(f\"Train (apparent) error is {1-train_penguins_uniform_acc:.4f} while test error is {1-test_penguins_uniform_acc:.4f} and full error is {1-full_penguins_uniform_acc:.4f}\")"
   ]
  },
  {
   "cell_type": "markdown",
   "metadata": {},
   "source": [
    "### 2.2 Una clase con probabilidad 0.9, las demás 0.05 (probar las 3 combinaciones)"
   ]
  },
  {
   "cell_type": "code",
   "execution_count": 129,
   "metadata": {
    "ExecuteTime": {
     "end_time": "2024-06-10T23:12:20.898212Z",
     "start_time": "2024-06-10T23:12:20.893013Z"
    }
   },
   "outputs": [
    {
     "name": "stdout",
     "output_type": "stream",
     "text": [
      "Distribución a priori adelie [-0.10536052 -2.99573227 -2.99573227]\n",
      "Modelo QDA - Distribución no uniforme [0.9, 0.05, 0.05] - Dataset Penguins:\n",
      "Train (apparent) error is 0.0195 while test error is 0.0219\n",
      "Distribución a priori chinstrap [-2.99573227 -0.10536052 -2.99573227]\n",
      "Modelo QDA - Distribución no uniforme [0.05, 0.9, 0.05] - Dataset Penguins:\n",
      "Train (apparent) error is 0.0098 while test error is 0.0219\n",
      "Distribución a priori gentoo [-2.99573227 -2.99573227 -0.10536052]\n",
      "Modelo QDA - Distribución no uniforme [0.05, 0.05, 0.9] - Dataset Penguins:\n",
      "Train (apparent) error is 0.0098 while test error is 0.0073\n"
     ]
    }
   ],
   "source": [
    "# Entrenamos el modelo\n",
    "# Vamos a entrenar tres modelos cada uno de ellos tendrá el nombre de la especie más dominante en la distribución\n",
    "\n",
    "a_priori_adelie = np.array([0.9, 0.05,0.05])\n",
    "qda_adelie = QDA()\n",
    "qda_adelie.fit(train_penguins_x, train_penguins_y, a_priori_adelie)\n",
    "print(f\"Distribución a priori adelie {qda_adelie.log_a_priori}\")\n",
    "\n",
    "print(f\"Modelo QDA - Distribución no uniforme [0.9, 0.05, 0.05] - Dataset Penguins:\")\n",
    "train_evaluate_qda(x_full=X_penguins_full, y_full=y_penguins_full, a_priori=[0.9, 0.05,0.05], error_name=\"qda_penguins_955\")\n",
    "\n",
    "a_priori_chinstrap = np.array([0.05, 0.9,0.05])\n",
    "qda_chinstrap = QDA()\n",
    "qda_chinstrap.fit(train_penguins_x, train_penguins_y, a_priori_chinstrap)\n",
    "print(f\"Distribución a priori chinstrap {qda_chinstrap.log_a_priori}\")\n",
    "\n",
    "print(f\"Modelo QDA - Distribución no uniforme [0.05, 0.9, 0.05] - Dataset Penguins:\")\n",
    "train_evaluate_qda(x_full=X_penguins_full, y_full=y_penguins_full, a_priori=[0.05, 0.9, 0.05], error_name=\"qda_penguins_595\")\n",
    "\n",
    "a_priori_gentoo = np.array([0.05, 0.05, 0.9])\n",
    "qda_gentoo = QDA()\n",
    "qda_gentoo.fit(train_penguins_x, train_penguins_y, a_priori_gentoo)\n",
    "print(f\"Distribución a priori gentoo {qda_gentoo.log_a_priori}\")\n",
    "\n",
    "print(f\"Modelo QDA - Distribución no uniforme [0.05, 0.05, 0.9] - Dataset Penguins:\")\n",
    "train_evaluate_qda(x_full=X_penguins_full, y_full=y_penguins_full, a_priori=[0.05, 0.05, 0.9], error_name=\"qda_penguins_559\")\n"
   ]
  },
  {
   "cell_type": "code",
   "execution_count": 130,
   "metadata": {
    "ExecuteTime": {
     "end_time": "2024-06-10T23:13:41.210669Z",
     "start_time": "2024-06-10T23:13:41.121420Z"
    }
   },
   "outputs": [
    {
     "name": "stdout",
     "output_type": "stream",
     "text": [
      "Ocurrencias de cada especie en el set de entrenamientos [0.4097561 0.1902439 0.4      ]\n",
      "Ocurrencias de cada especie en el set de test [0.48905109 0.21167883 0.29927007]\n",
      "Ocurrencias de cada especie en el set full [0.44152047 0.19883041 0.35964912]\n",
      "\n",
      "\n",
      "Adelie Train (apparent) error is 0.0195 while test error is 0.0219 and full error 0.0205\n",
      "Chinstrap Train (apparent) error is 0.0098 while test error is 0.0219 and full error 0.0146\n",
      "Gentoo Train (apparent) error is 0.0098 while test error is 0.0073 and full error 0.0088\n"
     ]
    }
   ],
   "source": [
    "# Previmanete saquemos la cantidad de ocurrencias de cada especie en los dataset de entrenamiento y prueba\n",
    "distribution_penguins_train = np.bincount(qda_penguin_uniforme.encoder.transform(train_penguins_y).flatten().astype(int)) / train_penguins_y.size\n",
    "distribution_penguins_test = np.bincount(qda_penguin_uniforme.encoder.transform(test_penguins_y).flatten().astype(int)) / test_penguins_y.size\n",
    "distribution_penguins_full = np.bincount(qda_penguin_uniforme.encoder.transform(y_penguins_full.reshape(1,-1)).flatten().astype(int)) / y_penguins_full.reshape(1,-1).size\n",
    "print(f\"Ocurrencias de cada especie en el set de entrenamientos {distribution_penguins_train}\")\n",
    "print(f\"Ocurrencias de cada especie en el set de test {distribution_penguins_test}\")\n",
    "print(f\"Ocurrencias de cada especie en el set full {distribution_penguins_full}\")\n",
    "print(\"\\n\")\n",
    "\n",
    "# Full dataset\n",
    "\n",
    "adelie_train_acc = accuracy(train_penguins_y, qda_adelie.predict(train_penguins_x))\n",
    "adelie_test_acc = accuracy(test_penguins_y, qda_adelie.predict(test_penguins_x))\n",
    "adelie_full_acc = accuracy(y_penguins_full.reshape(1,-1), qda_adelie.predict(X_penguins_full.T))\n",
    "print(f\"Adelie Train (apparent) error is {1-adelie_train_acc:.4f} while test error is {1-adelie_test_acc:.4f} and full error {1-adelie_full_acc:.4f}\")\n",
    "\n",
    "chinstrap_train_acc = accuracy(train_penguins_y, qda_chinstrap.predict(train_penguins_x))\n",
    "chinstrap_test_acc = accuracy(test_penguins_y, qda_chinstrap.predict(test_penguins_x))\n",
    "chinstrap_full_acc = accuracy(y_penguins_full.reshape(1,-1), qda_chinstrap.predict(X_penguins_full.T))\n",
    "print(f\"Chinstrap Train (apparent) error is {1-chinstrap_train_acc:.4f} while test error is {1-chinstrap_test_acc:.4f} and full error {1-chinstrap_full_acc:.4f}\")\n",
    "\n",
    "gentoo_train_acc = accuracy(train_penguins_y, qda_gentoo.predict(train_penguins_x))\n",
    "gentoo_test_acc = accuracy(test_penguins_y, qda_gentoo.predict(test_penguins_x))\n",
    "gentoo_full_acc = accuracy(y_penguins_full.reshape(1,-1), qda_gentoo.predict(X_penguins_full.T))\n",
    "print(f\"Gentoo Train (apparent) error is {1-gentoo_train_acc:.4f} while test error is {1-gentoo_test_acc:.4f} and full error {1-gentoo_full_acc:.4f}\")"
   ]
  },
  {
   "cell_type": "code",
   "execution_count": 131,
   "metadata": {
    "ExecuteTime": {
     "end_time": "2024-06-10T23:12:28.936028Z",
     "start_time": "2024-06-10T23:12:28.925280Z"
    }
   },
   "outputs": [
    {
     "name": "stdout",
     "output_type": "stream",
     "text": [
      "[0.44152047 0.19883041 0.35964912]\n"
     ]
    }
   ],
   "source": [
    "df_penguins, target_penguins = fetch_openml(name=\"penguins\", return_X_y=True, as_frame=True, parser='auto')\n",
    "df_penguins.drop(columns=['island', 'sex'], inplace=True)\n",
    "mask = df_penguins.isna().sum(axis=1) == 0#.sum(axis=1) == 0\n",
    "df_penguins = df_penguins[mask]\n",
    "mapping_dic = {'Adelie':0, 'Chinstrap': 1, 'Gentoo':2}\n",
    "reverse_mapping = ['Adelie', 'Chinstrap', 'Gentoo']\n",
    "target_penguins = np.array(target_penguins[mask].map(mapping_dic))\n",
    "proba = np.bincount(target_penguins).astype(int)/len(target_penguins)\n",
    "\n",
    "print(proba)\n",
    "fer= np.bincount(target_penguins)\n",
    "# df_penguins = pd.DataFrame(data_penguins.data, columns=data_penguins.feature_names)\n",
    "df_penguins['target'] = np.array(target_penguins)\n",
    "\n"
   ]
  },
  {
   "cell_type": "code",
   "execution_count": 132,
   "metadata": {
    "ExecuteTime": {
     "end_time": "2024-06-10T13:12:08.054785Z",
     "start_time": "2024-06-10T13:12:06.729372Z"
    }
   },
   "outputs": [
    {
     "name": "stderr",
     "output_type": "stream",
     "text": [
      "c:\\Users\\joaqu\\anaconda3\\Lib\\site-packages\\seaborn\\_oldcore.py:1119: FutureWarning: use_inf_as_na option is deprecated and will be removed in a future version. Convert inf values to NaN before operating instead.\n",
      "  with pd.option_context('mode.use_inf_as_na', True):\n",
      "c:\\Users\\joaqu\\anaconda3\\Lib\\site-packages\\seaborn\\_oldcore.py:1119: FutureWarning: use_inf_as_na option is deprecated and will be removed in a future version. Convert inf values to NaN before operating instead.\n",
      "  with pd.option_context('mode.use_inf_as_na', True):\n",
      "c:\\Users\\joaqu\\anaconda3\\Lib\\site-packages\\seaborn\\_oldcore.py:1119: FutureWarning: use_inf_as_na option is deprecated and will be removed in a future version. Convert inf values to NaN before operating instead.\n",
      "  with pd.option_context('mode.use_inf_as_na', True):\n",
      "c:\\Users\\joaqu\\anaconda3\\Lib\\site-packages\\seaborn\\_oldcore.py:1119: FutureWarning: use_inf_as_na option is deprecated and will be removed in a future version. Convert inf values to NaN before operating instead.\n",
      "  with pd.option_context('mode.use_inf_as_na', True):\n",
      "c:\\Users\\joaqu\\anaconda3\\Lib\\site-packages\\seaborn\\_oldcore.py:1119: FutureWarning: use_inf_as_na option is deprecated and will be removed in a future version. Convert inf values to NaN before operating instead.\n",
      "  with pd.option_context('mode.use_inf_as_na', True):\n",
      "c:\\Users\\joaqu\\anaconda3\\Lib\\site-packages\\seaborn\\_oldcore.py:1119: FutureWarning: use_inf_as_na option is deprecated and will be removed in a future version. Convert inf values to NaN before operating instead.\n",
      "  with pd.option_context('mode.use_inf_as_na', True):\n",
      "c:\\Users\\joaqu\\anaconda3\\Lib\\site-packages\\seaborn\\_oldcore.py:1119: FutureWarning: use_inf_as_na option is deprecated and will be removed in a future version. Convert inf values to NaN before operating instead.\n",
      "  with pd.option_context('mode.use_inf_as_na', True):\n",
      "c:\\Users\\joaqu\\anaconda3\\Lib\\site-packages\\seaborn\\_oldcore.py:1119: FutureWarning: use_inf_as_na option is deprecated and will be removed in a future version. Convert inf values to NaN before operating instead.\n",
      "  with pd.option_context('mode.use_inf_as_na', True):\n",
      "c:\\Users\\joaqu\\anaconda3\\Lib\\site-packages\\seaborn\\_oldcore.py:1119: FutureWarning: use_inf_as_na option is deprecated and will be removed in a future version. Convert inf values to NaN before operating instead.\n",
      "  with pd.option_context('mode.use_inf_as_na', True):\n",
      "c:\\Users\\joaqu\\anaconda3\\Lib\\site-packages\\seaborn\\_oldcore.py:1119: FutureWarning: use_inf_as_na option is deprecated and will be removed in a future version. Convert inf values to NaN before operating instead.\n",
      "  with pd.option_context('mode.use_inf_as_na', True):\n",
      "c:\\Users\\joaqu\\anaconda3\\Lib\\site-packages\\seaborn\\_oldcore.py:1119: FutureWarning: use_inf_as_na option is deprecated and will be removed in a future version. Convert inf values to NaN before operating instead.\n",
      "  with pd.option_context('mode.use_inf_as_na', True):\n",
      "c:\\Users\\joaqu\\anaconda3\\Lib\\site-packages\\seaborn\\_oldcore.py:1119: FutureWarning: use_inf_as_na option is deprecated and will be removed in a future version. Convert inf values to NaN before operating instead.\n",
      "  with pd.option_context('mode.use_inf_as_na', True):\n"
     ]
    },
    {
     "data": {
      "image/png": "[encoded data removed]",
      "text/plain": [
       "<Figure size 1200x1000 with 4 Axes>"
      ]
     },
     "metadata": {},
     "output_type": "display_data"
    }
   ],
   "source": [
    "features_name = df_penguins.drop(columns=['target']).columns\n",
    "\n",
    "df_penguins_adeline = df_penguins[df_penguins['target'] == 0]\n",
    "df_penguins_chinstrap = df_penguins[df_penguins['target'] == 1]\n",
    "df_penguins_gentoo = df_penguins[df_penguins['target'] == 2]\n",
    "\n",
    "fig, axes = plt.subplots(2, 2, figsize=(12, 10))\n",
    "for i, col in enumerate(features_name):\n",
    "    sns.kdeplot(df_penguins_adeline[col], ax=axes[i//2, i%2], color='yellow', legend=True, label='Adelie')\n",
    "    axes[i//2, i%2].set_title(f'Distribución de {col}')\n",
    "    sns.kdeplot(df_penguins_chinstrap[col], ax=axes[i//2, i%2], color='red', label='Chinstrap')\n",
    "    axes[i//2, i%2].set_title(f'Distribución de {col}')\n",
    "    sns.kdeplot(df_penguins_gentoo[col], ax=axes[i//2, i%2], color='blue', label='Gentoo')\n",
    "    axes[i//2, i%2].set_title(f'Distribución de {col}')\n",
    "    \n",
    "plt.legend(loc='lower right')\n",
    "plt.tight_layout()\n",
    "plt.show()"
   ]
  },
  {
   "cell_type": "code",
   "execution_count": 133,
   "metadata": {
    "ExecuteTime": {
     "end_time": "2024-06-10T13:12:08.355941Z",
     "start_time": "2024-06-10T13:12:08.057044Z"
    }
   },
   "outputs": [
    {
     "data": {
      "image/png": "[encoded data removed]",
      "text/plain": [
       "<Figure size 1000x600 with 1 Axes>"
      ]
     },
     "metadata": {},
     "output_type": "display_data"
    }
   ],
   "source": [
    "# Mapear los valores numéricos a nombres de clases\n",
    "columns_names = list(df_penguins.columns)\n",
    "\n",
    "# Visualización de la separación entre clases usando las dos características más separables\n",
    "plt.figure(figsize=(10, 6))\n",
    "for class_name in mapping_dic.values():\n",
    "    subset = df_penguins[df_penguins['target'] == class_name]\n",
    "    plt.scatter(subset[columns_names[1]], subset[columns_names[3]], label=reverse_mapping[class_name])\n",
    "plt.xlabel(columns_names[2])\n",
    "plt.ylabel(columns_names[3])\n",
    "plt.legend()\n",
    "plt.title('Separación de Clases en el Conjunto de Datos Penguins')\n",
    "plt.show()"
   ]
  },
  {
   "cell_type": "markdown",
   "metadata": {},
   "source": [
    "Escribir conclusiones"
   ]
  },
  {
   "cell_type": "markdown",
   "metadata": {},
   "source": [
    "## 3. Implementar el modelo LDA, entrenarlo y testearlo contra los mismos sets que QDA (no múltiples prioris) ¿Se observan diferencias? ¿Podría decirse que alguno de los dos es notoriamente mejor que el otro?"
   ]
  },
  {
   "cell_type": "markdown",
   "metadata": {},
   "source": [
    "#### Implementación del modelo LDA"
   ]
  },
  {
   "cell_type": "code",
   "execution_count": 134,
   "metadata": {
    "ExecuteTime": {
     "end_time": "2024-06-11T14:35:58.711802Z",
     "start_time": "2024-06-11T14:35:58.702688Z"
    }
   },
   "outputs": [],
   "source": [
    "class LDA(BaseBayesianClassifier):\n",
    "\n",
    "  def _fit_params(self, X, y):\n",
    "    # estimate one covariance matrix\n",
    "    self.inv_cov = inv(np.cov(X, bias=True))\n",
    "    self.means = [X[:,y.flatten()==idx].mean(axis=1, keepdims=True)\n",
    "                  for idx in range(len(self.log_a_priori))]\n",
    "\n",
    "  def _predict_log_conditional(self, x, class_idx):\n",
    "    # predict the log(P(x|G=ceass_idx)), the log of the conditional probability of x given the class\n",
    "    # this should depend on the model used\n",
    "    unbiased_x =  x - self.means[class_idx]\n",
    "    # return 0.5*np.log(det(inv_cov)) -0.5 * unbiased_x.T @ inv_cov @ unbiased_x\n",
    "    self.result = 0.5*np.log(det(self.inv_cov)) -0.5 * unbiased_x.T @ self.inv_cov @ unbiased_x\n",
    "    # print(f\"Predict log condicitional of {class_idx}: \", self.result)\n",
    "    return self.result"
   ]
  },
  {
   "cell_type": "code",
   "execution_count": 135,
   "metadata": {},
   "outputs": [],
   "source": [
    "def train_evaluate_lda(x_full, y_full, test_size=0.4, random_state=6543, error_name=\"\"):\n",
    "    train_x, train_y, test_x, test_y = split_transpose(x_full, y_full, test_size, random_state)\n",
    "\n",
    "    # Creamos una instancia\n",
    "    lda = LDA()\n",
    "\n",
    "    # Entrenar y evaluar el modelo LDA\n",
    "    lda.fit(train_x, train_y)\n",
    "\n",
    "    # Evaluamos el modelo en los conjuntos de entrenamiento y prueba\n",
    "    train_acc = accuracy(train_y, lda.predict(train_x))\n",
    "    test_acc = accuracy(test_y, lda.predict(test_x))\n",
    "    print(f\"Train (apparent) error is {1-train_acc:.4f} while test error is {1-test_acc:.4f}\")\n",
    "\n",
    "    result = round(1-train_acc, 4), round(1-test_acc, 4)\n",
    "    if error_name:\n",
    "      errors[error_name] = result\n"
   ]
  },
  {
   "cell_type": "markdown",
   "metadata": {},
   "source": [
    "### IRIS DATASET\n"
   ]
  },
  {
   "cell_type": "markdown",
   "metadata": {},
   "source": [
    "##### LDA"
   ]
  },
  {
   "cell_type": "code",
   "execution_count": 136,
   "metadata": {
    "ExecuteTime": {
     "end_time": "2024-06-11T13:08:06.882147Z",
     "start_time": "2024-06-11T13:08:06.871920Z"
    }
   },
   "outputs": [
    {
     "name": "stdout",
     "output_type": "stream",
     "text": [
      "Distribución a prioriri [0.3        0.32222222 0.37777778]\n"
     ]
    }
   ],
   "source": [
    "lda_iris = LDA()\n",
    "lda_iris.fit(train_iris_x, train_iris_y)\n",
    "\n",
    "print(f\"Distribución a prioriri {np.exp(lda_iris.log_a_priori)}\")"
   ]
  },
  {
   "cell_type": "code",
   "execution_count": 137,
   "metadata": {
    "ExecuteTime": {
     "end_time": "2024-06-11T13:08:07.533435Z",
     "start_time": "2024-06-11T13:08:07.494326Z"
    }
   },
   "outputs": [
    {
     "name": "stdout",
     "output_type": "stream",
     "text": [
      "Train (apparent) error is 0.1222 while test error is 0.2000 and full error is 0.1533\n",
      "Train (apparent) error is 0.1222 while test error is 0.2000\n"
     ]
    }
   ],
   "source": [
    "train_lda_iris_acc = accuracy(train_iris_y, lda_iris.predict(train_iris_x))\n",
    "test_lda_iris_acc = accuracy(test_iris_y, lda_iris.predict(test_iris_x))\n",
    "full_lda_iris_acc = accuracy(y_iris_full.reshape(1,-1), lda_iris.predict(X_iris_full.T))\n",
    "\n",
    "print(f\"Train (apparent) error is {1-train_lda_iris_acc:.4f} while test error is {1-test_lda_iris_acc:.4f} and full error is {1-full_lda_iris_acc:.4f}\")\n",
    "\n",
    "train_evaluate_lda(x_full=X_iris_full, y_full=y_iris_full, error_name=\"lda_iris\")"
   ]
  },
  {
   "cell_type": "markdown",
   "metadata": {},
   "source": [
    "##### QDA"
   ]
  },
  {
   "cell_type": "code",
   "execution_count": 138,
   "metadata": {
    "ExecuteTime": {
     "end_time": "2024-06-10T13:12:08.458882Z",
     "start_time": "2024-06-10T13:12:08.446630Z"
    }
   },
   "outputs": [],
   "source": [
    "# %%timeit\n",
    "# Entrenamos el modelo\n",
    "qda_iris = QDA()\n",
    "qda_iris.fit(train_iris_x, train_iris_y)"
   ]
  },
  {
   "cell_type": "code",
   "execution_count": 139,
   "metadata": {
    "ExecuteTime": {
     "end_time": "2024-06-10T13:12:08.527180Z",
     "start_time": "2024-06-10T13:12:08.460097Z"
    }
   },
   "outputs": [
    {
     "name": "stdout",
     "output_type": "stream",
     "text": [
      "Train (apparent) error is 0.0111 while test error is 0.0167 and full error is 0.0133\n",
      "Train (apparent) error is 0.0111 while test error is 0.0167\n"
     ]
    }
   ],
   "source": [
    "train_qda_iris_acc = accuracy(train_iris_y, qda_iris.predict(train_iris_x))\n",
    "test_qda_iris_acc = accuracy(test_iris_y, qda_iris.predict(test_iris_x))\n",
    "full_qda_iris_acc = accuracy(y_iris_full.reshape(1,-1), qda_iris.predict(X_iris_full.T))\n",
    "print(f\"Train (apparent) error is {(1-train_qda_iris_acc):.4f} while test error is {1-test_qda_iris_acc:.4f} and full error is {1-full_qda_iris_acc:.4f}\")\n",
    "\n",
    "train_evaluate_qda(x_full=X_iris_full, y_full=y_iris_full, error_name=\"qda_iris\")\n"
   ]
  },
  {
   "cell_type": "markdown",
   "metadata": {},
   "source": [
    "### PENGUINS DATASET"
   ]
  },
  {
   "cell_type": "markdown",
   "metadata": {},
   "source": [
    "##### LDA"
   ]
  },
  {
   "cell_type": "code",
   "execution_count": 140,
   "metadata": {
    "ExecuteTime": {
     "end_time": "2024-06-10T13:12:08.537233Z",
     "start_time": "2024-06-10T13:12:08.528609Z"
    }
   },
   "outputs": [
    {
     "name": "stdout",
     "output_type": "stream",
     "text": [
      "Distribución a prioriri [0.4097561 0.1902439 0.4      ]\n"
     ]
    }
   ],
   "source": [
    "lda_penguin = LDA()\n",
    "lda_penguin.fit(train_penguins_x, train_penguins_y)\n",
    "print(f\"Distribución a prioriri {np.exp(lda_penguin.log_a_priori)}\")"
   ]
  },
  {
   "cell_type": "code",
   "execution_count": 141,
   "metadata": {
    "ExecuteTime": {
     "end_time": "2024-06-10T13:12:08.662054Z",
     "start_time": "2024-06-10T13:12:08.539093Z"
    }
   },
   "outputs": [
    {
     "name": "stdout",
     "output_type": "stream",
     "text": [
      "Train (apparent) error is 0.0195 while test error is 0.0219 and full error is 0.0205\n",
      "Train (apparent) error is 0.0195 while test error is 0.0219\n"
     ]
    }
   ],
   "source": [
    "train_lda_penguins_acc = accuracy(train_penguins_y, lda_penguin.predict(train_penguins_x))\n",
    "test_lda_penguins_acc = accuracy(test_penguins_y, lda_penguin.predict(test_penguins_x))\n",
    "full_lda_penguins_acc = accuracy(y_penguins_full.reshape(1,-1), lda_penguin.predict(X_penguins_full.T))\n",
    "print(f\"Train (apparent) error is {1-train_lda_penguins_acc:.4f} while test error is {1-test_lda_penguins_acc:.4f} and full error is {1-full_lda_penguins_acc:.4f}\")\n",
    "\n",
    "train_evaluate_lda(x_full=X_penguins_full, y_full=y_penguins_full, error_name=\"lda_penguins\")\n"
   ]
  },
  {
   "cell_type": "markdown",
   "metadata": {},
   "source": [
    "##### QDA"
   ]
  },
  {
   "cell_type": "code",
   "execution_count": 142,
   "metadata": {
    "ExecuteTime": {
     "end_time": "2024-06-10T13:12:08.675917Z",
     "start_time": "2024-06-10T13:12:08.663487Z"
    }
   },
   "outputs": [
    {
     "name": "stdout",
     "output_type": "stream",
     "text": [
      "Distribución a priori [0.4097561 0.1902439 0.4      ]\n"
     ]
    }
   ],
   "source": [
    "qda_penguin = QDA()\n",
    "qda_penguin.fit(train_penguins_x, train_penguins_y)\n",
    "print(f\"Distribución a priori {np.exp(lda_penguin.log_a_priori)}\")"
   ]
  },
  {
   "cell_type": "code",
   "execution_count": 143,
   "metadata": {
    "ExecuteTime": {
     "end_time": "2024-06-10T13:12:08.747235Z",
     "start_time": "2024-06-10T13:12:08.677240Z"
    }
   },
   "outputs": [
    {
     "name": "stdout",
     "output_type": "stream",
     "text": [
      "Train (apparent) error is 0.0146 while test error is 0.0146 and full error is 0.0146\n",
      "Train (apparent) error is 0.0146 while test error is 0.0146\n"
     ]
    }
   ],
   "source": [
    "train_qda_penguins_acc = accuracy(train_penguins_y, qda_penguin.predict(train_penguins_x))\n",
    "test_qda_penguins_acc = accuracy(test_penguins_y, qda_penguin.predict(test_penguins_x))\n",
    "full_qda_penguins_acc = accuracy(y_penguins_full.reshape(1,-1), qda_penguin.predict(X_penguins_full.T))\n",
    "print(f\"Train (apparent) error is {1-train_qda_penguins_acc:.4f} while test error is {1-test_qda_penguins_acc:.4f} and full error is {1-full_qda_penguins_acc:.4f}\")\n",
    "\n",
    "train_evaluate_qda(x_full=X_penguins_full, y_full=y_penguins_full, error_name=\"qda_penguins\")"
   ]
  },
  {
   "cell_type": "markdown",
   "metadata": {},
   "source": [
    "## 4. Utilizar otros 2 (dos) valores de *random seed* para obtener distintos splits de train y test, y repetir la comparación del punto anterior ¿Las conclusiones previas se mantienen?"
   ]
  },
  {
   "cell_type": "markdown",
   "metadata": {},
   "source": [
    "### IRIS DATASET"
   ]
  },
  {
   "cell_type": "code",
   "execution_count": 144,
   "metadata": {
    "ExecuteTime": {
     "end_time": "2024-06-10T23:19:13.259716Z",
     "start_time": "2024-06-10T23:19:13.256642Z"
    }
   },
   "outputs": [],
   "source": [
    "rng_seed_1 = 5398\n",
    "rng_seed_2 = 2365\n",
    "train_iris_seed_1_x, train_iris_seed_1_y, test_iris_seed_1_x, test_iris_seed_1_y = split_transpose(X_iris_full, y_iris_full, 0.4, rng_seed_1)\n",
    "train_iris_seed_2_x, train_iris_seed_2_y, test_iris_seed_2_x, test_iris_seed_2_y = split_transpose(X_iris_full, y_iris_full, 0.4, rng_seed_2)"
   ]
  },
  {
   "cell_type": "markdown",
   "metadata": {},
   "source": [
    "##### SEED 1 "
   ]
  },
  {
   "cell_type": "markdown",
   "metadata": {},
   "source": [
    "###### LDA"
   ]
  },
  {
   "cell_type": "code",
   "execution_count": 145,
   "metadata": {
    "ExecuteTime": {
     "end_time": "2024-06-10T23:19:15.384576Z",
     "start_time": "2024-06-10T23:19:15.381683Z"
    }
   },
   "outputs": [
    {
     "name": "stdout",
     "output_type": "stream",
     "text": [
      "Distribución a prioriri [0.33333333 0.33333333 0.33333333]\n"
     ]
    }
   ],
   "source": [
    "lda_iris_seed_1 = LDA()\n",
    "lda_iris_seed_1.fit(train_iris_seed_1_x, train_iris_seed_1_y)\n",
    "\n",
    "print(f\"Distribución a prioriri {np.exp(lda_iris_seed_1.log_a_priori)}\")"
   ]
  },
  {
   "cell_type": "code",
   "execution_count": 146,
   "metadata": {
    "ExecuteTime": {
     "end_time": "2024-06-10T23:19:17.455210Z",
     "start_time": "2024-06-10T23:19:17.439370Z"
    }
   },
   "outputs": [
    {
     "name": "stdout",
     "output_type": "stream",
     "text": [
      "Train (apparent) error is 0.1000 while test error is 0.2167 and full error is 0.1467\n"
     ]
    }
   ],
   "source": [
    "train_lda_iris_seed_1_acc = accuracy(train_iris_seed_1_y, lda_iris_seed_1.predict(train_iris_seed_1_x))\n",
    "test_lda_iris_seed_1_acc = accuracy(test_iris_seed_1_y, lda_iris_seed_1.predict(test_iris_seed_1_x))\n",
    "full_lda_iris_seed_1_acc = accuracy(y_iris_full.reshape(1,-1), lda_iris_seed_1.predict(X_iris_full.T))\n",
    "\n",
    "print(f\"Train (apparent) error is {1-train_lda_iris_seed_1_acc:.4f} while test error is {1-test_lda_iris_seed_1_acc:.4f} and full error is {1-full_lda_iris_seed_1_acc:.4f}\")"
   ]
  },
  {
   "cell_type": "markdown",
   "metadata": {},
   "source": [
    "###### QDA"
   ]
  },
  {
   "cell_type": "code",
   "execution_count": 147,
   "metadata": {
    "ExecuteTime": {
     "end_time": "2024-06-10T13:12:08.850668Z",
     "start_time": "2024-06-10T13:12:08.844289Z"
    }
   },
   "outputs": [
    {
     "name": "stdout",
     "output_type": "stream",
     "text": [
      "Distribución a prioriri [0.33333333 0.33333333 0.33333333]\n"
     ]
    }
   ],
   "source": [
    "qda_iris_seed_1 = QDA()\n",
    "qda_iris_seed_1.fit(train_iris_seed_1_x, train_iris_seed_1_y)\n",
    "\n",
    "print(f\"Distribución a prioriri {np.exp(qda_iris_seed_1.log_a_priori)}\")"
   ]
  },
  {
   "cell_type": "code",
   "execution_count": 148,
   "metadata": {
    "ExecuteTime": {
     "end_time": "2024-06-10T13:12:08.915302Z",
     "start_time": "2024-06-10T13:12:08.851903Z"
    }
   },
   "outputs": [
    {
     "name": "stdout",
     "output_type": "stream",
     "text": [
      "Train (apparent) error is 0.0111 while test error is 0.0333 and full error is 0.0200\n"
     ]
    }
   ],
   "source": [
    "train_qda_iris_seed_1_acc = accuracy(train_iris_seed_1_y, qda_iris_seed_1.predict(train_iris_seed_1_x))\n",
    "test_qda_iris_seed_1_acc = accuracy(test_iris_seed_1_y, qda_iris_seed_1.predict(test_iris_seed_1_x))\n",
    "full_qda_iris_seed_1_acc = accuracy(y_iris_full.reshape(1,-1), qda_iris_seed_1.predict(X_iris_full.T))\n",
    "\n",
    "print(f\"Train (apparent) error is {1-train_qda_iris_seed_1_acc:.4f} while test error is {1-test_qda_iris_seed_1_acc:.4f} and full error is {1-full_qda_iris_seed_1_acc:.4f}\")"
   ]
  },
  {
   "cell_type": "markdown",
   "metadata": {},
   "source": [
    "##### SEED 2"
   ]
  },
  {
   "cell_type": "markdown",
   "metadata": {},
   "source": [
    "###### LDA"
   ]
  },
  {
   "cell_type": "code",
   "execution_count": 149,
   "metadata": {
    "ExecuteTime": {
     "end_time": "2024-06-10T13:12:08.925254Z",
     "start_time": "2024-06-10T13:12:08.917012Z"
    }
   },
   "outputs": [
    {
     "name": "stdout",
     "output_type": "stream",
     "text": [
      "Distribución a prioriri [0.35555556 0.31111111 0.33333333]\n"
     ]
    }
   ],
   "source": [
    "lda_iris_seed_2 = LDA()\n",
    "lda_iris_seed_2.fit(train_iris_seed_2_x, train_iris_seed_2_y)\n",
    "\n",
    "print(f\"Distribución a prioriri {np.exp(lda_iris_seed_2.log_a_priori)}\")"
   ]
  },
  {
   "cell_type": "code",
   "execution_count": 150,
   "metadata": {
    "ExecuteTime": {
     "end_time": "2024-06-10T13:12:09.002980Z",
     "start_time": "2024-06-10T13:12:08.926897Z"
    }
   },
   "outputs": [
    {
     "name": "stdout",
     "output_type": "stream",
     "text": [
      "Train (apparent) error is 0.1444 while test error is 0.1667 and full error is 0.1533\n"
     ]
    }
   ],
   "source": [
    "train_lda_iris_seed_2_acc = accuracy(train_iris_seed_2_y, lda_iris_seed_2.predict(train_iris_seed_2_x))\n",
    "test_lda_iris_seed_2_acc = accuracy(test_iris_seed_2_y, lda_iris_seed_2.predict(test_iris_seed_2_x))\n",
    "full_lda_iris_seed_2_acc = accuracy(y_iris_full.reshape(1,-1), lda_iris_seed_2.predict(X_iris_full.T))\n",
    "\n",
    "print(f\"Train (apparent) error is {1-train_lda_iris_seed_2_acc:.4f} while test error is {1-test_lda_iris_seed_2_acc:.4f} and full error is {1-full_lda_iris_seed_2_acc:.4f}\")"
   ]
  },
  {
   "cell_type": "markdown",
   "metadata": {},
   "source": [
    "###### QDA"
   ]
  },
  {
   "cell_type": "code",
   "execution_count": 151,
   "metadata": {
    "ExecuteTime": {
     "end_time": "2024-06-10T13:12:09.013223Z",
     "start_time": "2024-06-10T13:12:09.004231Z"
    }
   },
   "outputs": [
    {
     "name": "stdout",
     "output_type": "stream",
     "text": [
      "Distribución a prioriri [0.35555556 0.31111111 0.33333333]\n"
     ]
    }
   ],
   "source": [
    "qda_iris_seed_2 = QDA()\n",
    "qda_iris_seed_2.fit(train_iris_seed_2_x, train_iris_seed_2_y)\n",
    "\n",
    "print(f\"Distribución a prioriri {np.exp(qda_iris_seed_2.log_a_priori)}\")"
   ]
  },
  {
   "cell_type": "code",
   "execution_count": 152,
   "metadata": {
    "ExecuteTime": {
     "end_time": "2024-06-10T13:12:09.043546Z",
     "start_time": "2024-06-10T13:12:09.014770Z"
    }
   },
   "outputs": [
    {
     "name": "stdout",
     "output_type": "stream",
     "text": [
      "Train (apparent) error is 0.0222 while test error is 0.0000 and full error is 0.0133\n"
     ]
    }
   ],
   "source": [
    "train_qda_iris_seed_2_acc = accuracy(train_iris_seed_2_y, qda_iris_seed_2.predict(train_iris_seed_2_x))\n",
    "test_qda_iris_seed_2_acc = accuracy(test_iris_seed_2_y, qda_iris_seed_2.predict(test_iris_seed_2_x))\n",
    "full_qda_iris_seed_2_acc = accuracy(y_iris_full.reshape(1,-1), qda_iris_seed_2.predict(X_iris_full.T))\n",
    "\n",
    "print(f\"Train (apparent) error is {1-train_qda_iris_seed_2_acc:.4f} while test error is {1-test_qda_iris_seed_2_acc:.4f} and full error is {1-full_qda_iris_seed_2_acc:.4f}\")"
   ]
  },
  {
   "cell_type": "code",
   "execution_count": 153,
   "metadata": {},
   "outputs": [
    {
     "name": "stdout",
     "output_type": "stream",
     "text": [
      "Train (apparent) error is 0.0111 while test error is 0.0333\n",
      "Train (apparent) error is 0.0098 while test error is 0.0219\n",
      "Train (apparent) error is 0.0222 while test error is 0.0000\n",
      "Train (apparent) error is 0.0098 while test error is 0.0146\n",
      "Train (apparent) error is 0.1000 while test error is 0.2167\n",
      "Train (apparent) error is 0.0146 while test error is 0.0292\n",
      "Train (apparent) error is 0.1444 while test error is 0.1667\n",
      "Train (apparent) error is 0.0244 while test error is 0.0146\n",
      "{'qda_iris_955': (0.0222, 0.0167), 'qda_iris_595': (0.0222, 0.0167), 'qda_iris_559': (0.0222, 0.0167), 'qda_penguins_955': (0.0195, 0.0219), 'qda_penguins_595': (0.0098, 0.0219), 'qda_penguins_559': (0.0098, 0.0073), 'lda_iris': (0.1222, 0.2), 'qda_iris': (0.0111, 0.0167), 'lda_penguins': (0.0195, 0.0219), 'qda_penguins': (0.0146, 0.0146), 'qda_iris_seeds-5398': (0.0111, 0.0333), 'qda_penguins_seeds-5398': (0.0098, 0.0219), 'qda_iris_seeds-2365': (0.0222, 0.0), 'qda_penguins_seeds-2365': (0.0098, 0.0146), 'lda_iris_seeds-5398': (0.1, 0.2167), 'lda_penguins_seeds-5398': (0.0146, 0.0292), 'lda_iris_seeds-2365': (0.1444, 0.1667), 'lda_penguins_seeds-2365': (0.0244, 0.0146)}\n"
     ]
    }
   ],
   "source": [
    "# Con array de seeds\n",
    "seeds_array = [5398, 2365]\n",
    "\n",
    "# QDA\n",
    "for seed in seeds_array:\n",
    "    train_evaluate_qda(x_full=X_iris_full, y_full=y_iris_full, random_state=seed, error_name=f\"qda_iris_seeds-{seed}\")\n",
    "    train_evaluate_qda(x_full=X_penguins_full, y_full=y_penguins_full, random_state=seed, error_name=f\"qda_penguins_seeds-{seed}\")\n",
    "\n",
    "# LDA\n",
    "for seed in seeds_array:\n",
    "    train_evaluate_lda(x_full=X_iris_full, y_full=y_iris_full, random_state=seed, error_name=f\"lda_iris_seeds-{seed}\")\n",
    "    train_evaluate_lda(x_full=X_penguins_full, y_full=y_penguins_full, random_state=seed, error_name=f\"lda_penguins_seeds-{seed}\")\n",
    "\n",
    "print(errors)"
   ]
  },
  {
   "cell_type": "code",
   "execution_count": 183,
   "metadata": {},
   "outputs": [
    {
     "name": "stdout",
     "output_type": "stream",
     "text": [
      "qda_iris_955              | Train error: 0.0222 | Test error: 0.0167\n",
      "qda_iris_595              | Train error: 0.0222 | Test error: 0.0167\n",
      "qda_iris_559              | Train error: 0.0222 | Test error: 0.0167\n",
      "qda_penguins_955          | Train error: 0.0195 | Test error: 0.0219\n",
      "qda_penguins_595          | Train error: 0.0098 | Test error: 0.0219\n",
      "qda_penguins_559          | Train error: 0.0098 | Test error: 0.0073\n",
      "lda_iris                  | Train error: 0.1222 | Test error: 0.2\n",
      "qda_iris                  | Train error: 0.0111 | Test error: 0.0167\n",
      "lda_penguins              | Train error: 0.0195 | Test error: 0.0219\n",
      "qda_penguins              | Train error: 0.0146 | Test error: 0.0146\n",
      "qda_iris_seeds-5398       | Train error: 0.0111 | Test error: 0.0333\n",
      "qda_penguins_seeds-5398   | Train error: 0.0098 | Test error: 0.0219\n",
      "qda_iris_seeds-2365       | Train error: 0.0222 | Test error: 0.0\n",
      "qda_penguins_seeds-2365   | Train error: 0.0098 | Test error: 0.0146\n",
      "lda_iris_seeds-5398       | Train error: 0.1    | Test error: 0.2167\n",
      "lda_penguins_seeds-5398   | Train error: 0.0146 | Test error: 0.0292\n",
      "lda_iris_seeds-2365       | Train error: 0.1444 | Test error: 0.1667\n",
      "lda_penguins_seeds-2365   | Train error: 0.0244 | Test error: 0.0146\n"
     ]
    }
   ],
   "source": [
    "# Mostrar errores\n",
    "for error_name, error_values in errors.items():\n",
    "    print(f\"{error_name:<25} | Train error: {error_values[0]:<6} | Test error: {error_values[1]}\")"
   ]
  },
  {
   "cell_type": "markdown",
   "metadata": {},
   "source": [
    "CONCLUSION"
   ]
  },
  {
   "cell_type": "markdown",
   "metadata": {},
   "source": [
    "## 5. Estimar y comparar los tiempos de predicción de las clases `QDA` y `TensorizedQDA`. De haber diferencias ¿Cuáles pueden ser las causas?"
   ]
  },
  {
   "cell_type": "markdown",
   "metadata": {},
   "source": [
    "###### QDA SIN TENSOR"
   ]
  },
  {
   "cell_type": "code",
   "execution_count": 154,
   "metadata": {
    "ExecuteTime": {
     "end_time": "2024-06-10T22:43:25.600070Z",
     "start_time": "2024-06-10T22:43:25.597306Z"
    }
   },
   "outputs": [],
   "source": [
    "\n",
    "qda_array = QDA()\n",
    "qda_array.fit(train_iris_x, train_iris_y)"
   ]
  },
  {
   "cell_type": "code",
   "execution_count": 155,
   "metadata": {
    "ExecuteTime": {
     "end_time": "2024-06-10T22:43:42.242620Z",
     "start_time": "2024-06-10T22:43:25.993045Z"
    }
   },
   "outputs": [
    {
     "name": "stdout",
     "output_type": "stream",
     "text": [
      "5.52 ms ± 123 µs per loop (mean ± std. dev. of 7 runs, 100 loops each)\n"
     ]
    }
   ],
   "source": [
    "%%timeit\n",
    "predict_qda_array_y = qda_array.predict(test_iris_x)"
   ]
  },
  {
   "cell_type": "markdown",
   "metadata": {},
   "source": [
    "###### QDA CON TENSOR"
   ]
  },
  {
   "cell_type": "code",
   "execution_count": 156,
   "metadata": {
    "ExecuteTime": {
     "end_time": "2024-06-10T22:40:57.263397Z",
     "start_time": "2024-06-10T22:40:57.260778Z"
    }
   },
   "outputs": [],
   "source": [
    "qda_tensor = TensorizedQDA()\n",
    "qda_tensor.fit(train_iris_x, train_iris_y)"
   ]
  },
  {
   "cell_type": "code",
   "execution_count": 157,
   "metadata": {
    "ExecuteTime": {
     "end_time": "2024-06-10T23:45:06.033742Z",
     "start_time": "2024-06-10T23:45:06.028522Z"
    }
   },
   "outputs": [
    {
     "name": "stdout",
     "output_type": "stream",
     "text": [
      "Maxima memoria ocupada: 0.01 [MB]\n"
     ]
    }
   ],
   "source": [
    "import tracemalloc\n",
    "\n",
    "# Para medir memoria consumida (usamos el pico de memoria)\n",
    "tracemalloc.start()\n",
    "predict_qda_tensor_y = qda_tensor.predict(test_iris_x)\n",
    "_, memory_peak = tracemalloc.get_traced_memory()\n",
    "memory_peak /= 1024*1024\n",
    "tracemalloc.stop()\n",
    "\n",
    "print(f\"Maxima memoria ocupada: {round(memory_peak, 2)} [MB]\", )"
   ]
  },
  {
   "cell_type": "markdown",
   "metadata": {},
   "source": [
    "<p>Se observa una disminución considerable en el tiempo de predicción, de 4.41 ms a 1.63 ms.</p> <p>Esto se debe a que en TensorizedQDA no es necesario declarar iteraciones explícitas como en el caso de el método predict_one en la clase QDA, sino que las operaciones son realizadas mediante operaciones vectorizadas las cuales se encuentra programas en C dentro de la libreria numpy.<p>\n",
    "Linea de código método _predict_one en la clase QDA en la cual se declara un bucle explicito para calcular las distintas probabilidades a posteriori:\n",
    "<ul><li> (log_posteriori = [ log_a_priori_i + self._predict_log_conditional(x, idx) for idx, log_a_priori_i in enumerate(self.log_a_priori) ])</li></ul>\n",
    "\n",
    "Linea de código método _predict_one en la clase TensorizedQDA. En este caso la operación de cálculo probabilidad a posteriori se realiza de manera vectorizada dento de la librería, con lo cual aprovecha todas las optimizaciones de bajo nivel implementadas en C:\n",
    "<ul><li> return np.argmax(self.log_a_priori + self._predict_log_conditionals(x)) </li></ul>\n",
    "\n",
    "En conclusión, siempre es conveniente para el caso de operaciones iterativas, de ser posibles, realizarlas dentro de la libreria de modo de evitar la sobrecarga que produce python."
   ]
  },
  {
   "cell_type": "markdown",
   "metadata": {},
   "source": [
    "## Optimización matemática\n",
    "\n",
    "**Sugerencia:** considerar combinaciones adecuadas de `transpose`, `reshape` y, ocasionalmente, `flatten`. Explorar la dimensionalidad de cada elemento antes de implementar las clases.\n",
    "\n",
    "### QDA\n",
    "\n",
    "Debido a la forma cuadrática de QDA, no se puede predecir para *n* observaciones en una sola pasada (utilizar $X \\in \\mathbb{R}^{p \\times n}$ en vez de $x \\in \\mathbb{R}^p$) sin pasar por una matriz de *n x n* en donde se computan todas las interacciones entre observaciones. Se puede acceder al resultado recuperando sólo la diagonal de dicha matriz, pero resulta ineficiente en tiempo y (especialmente) en memoria. Aún así, es *posible* que el modelo funcione más rápido.\n",
    "\n",
    "1. Implementar el modelo `FasterQDA` (se recomienda heredarlo de TensorizedQDA) de manera de eliminar el ciclo for en el método predict.\n",
    "2. Comparar los tiempos de predicción de `FasterQDA` con `TensorizedQDA` y `QDA`.\n",
    "3. Mostrar (puede ser con un print) dónde aparece la mencionada matriz de *n x n*, donde *n* es la cantidad de observaciones a predecir.\n",
    "4. Demostrar que\n",
    "$$\n",
    "diag(A \\cdot B) = \\sum_{cols} A \\odot B^T = np.sum(A \\odot B^T, axis=1)\n",
    "$$ es decir, que se puede \"esquivar\" la matriz de *n x n* usando matrices de *n x p*.\n",
    "5. Utilizar la propiedad antes demostrada para reimplementar la predicción del modelo `FasterQDA` de forma eficiente. ¿Hay cambios en los tiempos de predicción?\n",
    "\n",
    "\n",
    "### LDA\n",
    "\n",
    "1. \"Tensorizar\" el modelo LDA y comparar sus tiempos de predicción con el modelo antes implementado. *Notar que, en modo tensorizado, se puede directamente precomputar $\\mu^T \\cdot \\Sigma^{-1} \\in \\mathbb{R}^{k \\times 1 \\times p}$ y guardar eso en vez de $\\Sigma^{-1}$.*\n",
    "2. LDA no sufre del problema antes descrito de QDA debido a que no computa productos internos, por lo que no tiene un verdadero costo extra en memoria predecir \"en batch\". Implementar el modelo `FasterLDA` y comparar sus tiempos de predicción con las versiones anteriores de LDA."
   ]
  },
  {
   "cell_type": "markdown",
   "metadata": {},
   "source": [
    "## 1.Implementar el modelo `FasterQDA` (se recomienda heredarlo de TensorizedQDA) de manera de eliminar el ciclo for en el método predict."
   ]
  },
  {
   "cell_type": "code",
   "execution_count": 158,
   "metadata": {
    "ExecuteTime": {
     "end_time": "2024-06-11T12:53:11.539565Z",
     "start_time": "2024-06-11T12:53:11.524789Z"
    }
   },
   "outputs": [],
   "source": [
    "\n",
    "class FasterQDA(TensorizedQDA):\n",
    "\n",
    "    def predict(self, x):\n",
    "        tensor_unbiased_x = x - self.tensor_means\n",
    "        inner_prod = tensor_unbiased_x.transpose(0,2,1) @ self.tensor_inv_cov @ tensor_unbiased_x #--> ACA SE GENERA LA MATRIZ nXn\n",
    "        result = np.argmax(self.log_a_priori + 0.5*np.log(det(self.tensor_inv_cov)) - 0.5 * inner_prod.diagonal(axis1=1, axis2=2).T, axis=1)\n",
    "        y_hat = self.encoder.names[result]\n",
    "        return y_hat.reshape(1,-1)\n",
    "\n",
    "qda_faster = FasterQDA()\n",
    "qda_faster.fit(train_iris_x, train_iris_y)\n",
    "\n"
   ]
  },
  {
   "cell_type": "markdown",
   "metadata": {},
   "source": [
    "Tiempo de predicción FasterQDA"
   ]
  },
  {
   "cell_type": "code",
   "execution_count": 159,
   "metadata": {
    "ExecuteTime": {
     "end_time": "2024-06-11T12:53:16.793700Z",
     "start_time": "2024-06-11T12:53:12.769346Z"
    }
   },
   "outputs": [
    {
     "name": "stdout",
     "output_type": "stream",
     "text": [
      "55.5 µs ± 1.27 µs per loop (mean ± std. dev. of 7 runs, 10,000 loops each)\n"
     ]
    }
   ],
   "source": [
    "%%timeit\n",
    "qda_faster.predict(test_iris_x)"
   ]
  },
  {
   "cell_type": "code",
   "execution_count": 160,
   "metadata": {
    "ExecuteTime": {
     "end_time": "2024-06-11T12:53:21.921432Z",
     "start_time": "2024-06-11T12:53:21.915470Z"
    }
   },
   "outputs": [
    {
     "name": "stdout",
     "output_type": "stream",
     "text": [
      "Maxima memoria ocupada: 0.1 [MB]\n"
     ]
    }
   ],
   "source": [
    "import tracemalloc\n",
    "\n",
    "# Para medir memoria consumida (usamos el pico de memoria)\n",
    "tracemalloc.start()\n",
    "qda_faster.predict(test_iris_x)\n",
    "_, memory_peak = tracemalloc.get_traced_memory()\n",
    "memory_peak /= 1024*1024\n",
    "tracemalloc.stop()\n",
    "\n",
    "print(f\"Maxima memoria ocupada: {round(memory_peak, 2)} [MB]\", )"
   ]
  },
  {
   "cell_type": "markdown",
   "metadata": {},
   "source": [
    "## 2. Comparar los tiempos de predicción de `FasterQDA` con `TensorizedQDA` y `QDA`."
   ]
  },
  {
   "cell_type": "markdown",
   "metadata": {},
   "source": [
    "Modelo | Dataset | Seed |  Media  | Std\n",
    ":---: | :---: | :---: |:-------:| :---:\n",
    "QDA | Iris | 125 | 1.99 ms | \\pm 30 us\n",
    "TensorizedQDA | Iris | 125 | 685 \\us  | \\div 4.4\n",
    "FasterQDA | Iris | 125 |  27.6   | \\pm 4.29"
   ]
  },
  {
   "cell_type": "markdown",
   "metadata": {},
   "source": [
    "## 4. Demostrar que\n",
    "$$\n",
    "diag(A \\cdot B) = \\sum_{cols} A \\odot B^T = np.sum(A \\odot B^T, axis=1)\n",
    "$$ es decir, que se puede \"esquivar\" la matriz de *n x n* usando matrices de *n x p*."
   ]
  },
  {
   "cell_type": "markdown",
   "metadata": {},
   "source": [
    "Tenenmos\n",
    "$$\n",
    "\\[ \n",
    "A_{n\\times p} = \\begin{pmatrix} \n",
    "a_{11} & \\ldots & a_{1p} \\\\\n",
    "\\vdots & \\ddots & \\vdots \\\\\n",
    "a_{n1} & \\ldots & a_{np}\n",
    "\\end{pmatrix}\n",
    "\\]\n",
    ",\\[\n",
    "B_{p\\times n} = \\begin{pmatrix} \n",
    "b_{11} & \\ldots & b_{1n} \\\\\n",
    "\\vdots & \\ddots & \\vdots \\\\\n",
    "b_{p1} & \\ldots & b_{pn}\n",
    "\\end{pmatrix}\n",
    "\\]\n",
    "$$\n",
    "entonces\n",
    "$$\n",
    "A \\cdot B = C => C_{ij} = \\sum_{r=1}^{p} a_{ir} \\cdot b_{rj}\n",
    "$$\n",
    "$$\n",
    "diag(A \\cdot B) = C_{ii} = \\sum_{r=1}^{p} a_{ir} \\cdot b_{ri} \\text{ para todo } i \\in \\{1, 2, \\ldots, n\\} = \\begin{pmatrix} \n",
    "\\sum_{r=1}^{p} a_{1r} \\cdot b_{r1} \\\\\n",
    "\\vdots  \\\\\n",
    "\\sum_{r=1}^{p} a_{nr} \\cdot b_{rn}\n",
    "\\end{pmatrix}\n",
    "$$\n",
    "Ahora bien\n",
    "$$\n",
    "\\[ \n",
    "A = \\begin{pmatrix} \n",
    "a_{11} & \\ldots & a_{1p} \\\\\n",
    "\\vdots & \\ddots & \\vdots \\\\\n",
    "a_{n1} & \\ldots & a_{np}\n",
    "\\end{pmatrix}\n",
    "\\]\n",
    ",\\[\n",
    "B^T = \\begin{pmatrix} \n",
    "b_{11} & \\ldots & b_{p1} \\\\\n",
    "\\vdots & \\ddots & \\vdots \\\\\n",
    "b_{1n} & \\ldots & b_{pn}\n",
    "\\end{pmatrix} \n",
    "\\]\n",
    "$$\n",
    "entonces\n",
    "$$\n",
    "A \\odot B^T = \\begin{pmatrix} \n",
    "a_{11}\\cdot b_{11} & \\ldots & a_{1p}\\cdot b_{p1} \\\\\n",
    "\\vdots & \\ddots & \\vdots \\\\\n",
    "a_{n1}\\cdot b_{1n} & \\ldots & a_{np}\\cdot b_{pn}\n",
    "\\end{pmatrix} => d_{ij} = a_{ij} \\cdot b_{ji}\n",
    "$$\n",
    "Por último\n",
    "$$\n",
    "\\sum_{cols} A \\odot B^T = \\begin{pmatrix} \n",
    "a_{11} \\cdot b_{11} + \\ldots + a_{1p} \\cdot b_{p1} \\\\\n",
    "\\vdots  \\\\\n",
    "a_{n1} \\cdot b_{1n} + \\ldots + a_{np} \\cdot b_{pn}\n",
    "\\end{pmatrix} = \\begin{pmatrix} \n",
    "\\sum_{r=1}^{p} a_{1r} \\cdot b_{r1} \\\\\n",
    "\\vdots  \\\\\n",
    "\\sum_{r=1}^{p} a_{nr} \\cdot b_{rn}\n",
    "\\end{pmatrix}\n",
    "$$\n",
    "$$\n",
    "\\therefore diag(A \\cdot B) = \\sum_{cols} A \\odot B^T\n",
    "$$"
   ]
  },
  {
   "cell_type": "markdown",
   "metadata": {},
   "source": [
    "## 5. Utilizar la propiedad antes demostrada para reimplementar la predicción del modelo `FasterQDA` de forma eficiente. ¿Hay cambios en los tiempos de predicción?"
   ]
  },
  {
   "cell_type": "code",
   "execution_count": 161,
   "metadata": {
    "ExecuteTime": {
     "end_time": "2024-06-11T12:54:01.990872Z",
     "start_time": "2024-06-11T12:54:01.971762Z"
    }
   },
   "outputs": [],
   "source": [
    "class HyperFasterQDA(TensorizedQDA):\n",
    "\n",
    "    def predict(self, x):\n",
    "        tensor_unbiased_x = x - self.tensor_means\n",
    "        partial_inner_prod = tensor_unbiased_x.transpose(0,2,1) @ self.tensor_inv_cov \n",
    "        hadamer_prod = partial_inner_prod * tensor_unbiased_x.transpose(0,2,1)\n",
    "        sum_hadamar_prod = np.sum(hadamer_prod, axis=2)\n",
    "        result = np.argmax((self.log_a_priori + 0.5*np.log(det(self.tensor_inv_cov)) - 0.5 * sum_hadamar_prod.T), axis=1)\n",
    "        y_hat = self.encoder.names[result]\n",
    "        return y_hat.reshape(1,-1)\n",
    "\n",
    "qda_hfaster = HyperFasterQDA()\n",
    "qda_hfaster.fit(train_iris_x, train_iris_y)"
   ]
  },
  {
   "cell_type": "markdown",
   "metadata": {},
   "source": [
    "Tiempo de predicción"
   ]
  },
  {
   "cell_type": "code",
   "execution_count": 162,
   "metadata": {
    "ExecuteTime": {
     "end_time": "2024-06-11T12:54:08.166627Z",
     "start_time": "2024-06-11T12:54:04.533223Z"
    }
   },
   "outputs": [
    {
     "name": "stdout",
     "output_type": "stream",
     "text": [
      "54.4 µs ± 1.32 µs per loop (mean ± std. dev. of 7 runs, 10,000 loops each)\n"
     ]
    }
   ],
   "source": [
    "%%timeit\n",
    "qda_hfaster.predict(test_iris_x)"
   ]
  },
  {
   "cell_type": "markdown",
   "metadata": {},
   "source": [
    "Uso de memoria HyperFasterQDA"
   ]
  },
  {
   "cell_type": "code",
   "execution_count": 163,
   "metadata": {
    "ExecuteTime": {
     "end_time": "2024-06-11T12:54:13.309784Z",
     "start_time": "2024-06-11T12:54:13.303766Z"
    }
   },
   "outputs": [
    {
     "name": "stdout",
     "output_type": "stream",
     "text": [
      "Maxima memoria ocupada: 0.17 [MB]\n"
     ]
    }
   ],
   "source": [
    "import tracemalloc\n",
    "\n",
    "# Para medir memoria consumida (usamos el pico de memoria)\n",
    "tracemalloc.start()\n",
    "qda_hfaster.predict(test_iris_x)\n",
    "_, memory_peak = tracemalloc.get_traced_memory()\n",
    "memory_peak /= 1024*1024\n",
    "tracemalloc.stop()\n",
    "\n",
    "print(f\"Maxima memoria ocupada: {round(memory_peak, 2)} [MB]\", )"
   ]
  },
  {
   "cell_type": "markdown",
   "metadata": {},
   "source": [
    "## 1. \"Tensorizar\" el modelo LDA y comparar sus tiempos de predicción con el modelo antes implementado. *Notar que, en modo tensorizado, se puede directamente precomputar $\\mu^T \\cdot \\Sigma^{-1} \\in \\mathbb{R}^{k \\times 1 \\times p}$ y guardar eso en vez de $\\Sigma^{-1}$.*"
   ]
  },
  {
   "cell_type": "code",
   "execution_count": 164,
   "metadata": {
    "ExecuteTime": {
     "end_time": "2024-06-11T14:40:18.924785Z",
     "start_time": "2024-06-11T14:40:18.914027Z"
    }
   },
   "outputs": [
    {
     "data": {
      "text/plain": [
       "array([['versicolor', 'virginica', 'virginica', 'setosa', 'versicolor',\n",
       "        'versicolor', 'versicolor', 'versicolor', 'versicolor',\n",
       "        'virginica', 'versicolor', 'versicolor', 'versicolor', 'setosa',\n",
       "        'setosa', 'versicolor', 'setosa', 'setosa', 'versicolor',\n",
       "        'setosa', 'versicolor', 'setosa', 'versicolor', 'setosa',\n",
       "        'virginica', 'setosa', 'versicolor', 'setosa', 'versicolor',\n",
       "        'virginica', 'virginica', 'setosa', 'versicolor', 'virginica',\n",
       "        'virginica', 'virginica', 'virginica', 'virginica', 'setosa',\n",
       "        'virginica', 'setosa', 'virginica', 'setosa', 'setosa',\n",
       "        'versicolor', 'virginica', 'versicolor', 'setosa', 'setosa',\n",
       "        'setosa', 'virginica', 'virginica', 'versicolor', 'setosa',\n",
       "        'versicolor', 'setosa', 'virginica', 'versicolor', 'setosa',\n",
       "        'setosa']], dtype='<U10')"
      ]
     },
     "execution_count": 164,
     "metadata": {},
     "output_type": "execute_result"
    }
   ],
   "source": [
    "class TensorizedLDA(LDA):\n",
    "\n",
    "    def _fit_params(self, X, y):\n",
    "        # ask plain QDA to fit params\n",
    "        super()._fit_params(X,y)\n",
    "\n",
    "        # stack onto new dimension\n",
    "        # self.tensor_inv_cov = np.stack(self.inv_covs)\n",
    "        self.tensor_means = np.stack(self.means)\n",
    "        self.tensor_means_inv_cov_prod = self.tensor_means.transpose(0,2,1) @ self.inv_cov\n",
    "\n",
    "    def _predict_log_conditionals(self,x):\n",
    "        # print(\"X:\", x)\n",
    "        \n",
    "        unbiased_x = x - 0.5*self.tensor_means\n",
    "        result = self.tensor_means_inv_cov_prod @ unbiased_x\n",
    "        return result\n",
    "\n",
    "    def _predict_one(self, x):\n",
    "        # return the class that has maximum a posteriori probability\n",
    "        result = np.argmax(self.log_a_priori + self._predict_log_conditionals(x).T)\n",
    "        return result\n",
    "    \n",
    "\n",
    "lda_tensorized = TensorizedLDA()\n",
    "lda_tensorized.fit(train_iris_x, train_iris_y)\n",
    "lda_tensorized.predict(test_iris_x)\n"
   ]
  },
  {
   "cell_type": "code",
   "execution_count": 165,
   "metadata": {
    "ExecuteTime": {
     "end_time": "2024-06-11T14:46:22.617056Z",
     "start_time": "2024-06-11T14:46:16.397484Z"
    }
   },
   "outputs": [
    {
     "name": "stdout",
     "output_type": "stream",
     "text": [
      "1.04 ms ± 23.6 µs per loop (mean ± std. dev. of 7 runs, 1,000 loops each)\n"
     ]
    }
   ],
   "source": [
    "%%timeit\n",
    "lda_tensorized.predict(test_iris_x)"
   ]
  },
  {
   "cell_type": "code",
   "execution_count": 166,
   "metadata": {
    "ExecuteTime": {
     "end_time": "2024-06-11T14:40:32.077961Z",
     "start_time": "2024-06-11T14:40:32.063635Z"
    }
   },
   "outputs": [
    {
     "name": "stdout",
     "output_type": "stream",
     "text": [
      "Train (apparent) error is 0.1222 while test error is 0.2000 and full error is 0.1533\n"
     ]
    }
   ],
   "source": [
    "train_lda_iris_seed_1_acc = accuracy(train_iris_y, lda_tensorized.predict(train_iris_x))\n",
    "test_lda_iris_seed_1_acc = accuracy(test_iris_y, lda_tensorized.predict(test_iris_x))\n",
    "full_lda_iris_seed_1_acc = accuracy(y_iris_full.reshape(1,-1), lda_tensorized.predict(X_iris_full.T))\n",
    "\n",
    "print(f\"Train (apparent) error is {1-train_lda_iris_seed_1_acc:.4f} while test error is {1-test_lda_iris_seed_1_acc:.4f} and full error is {1-full_lda_iris_seed_1_acc:.4f}\")"
   ]
  },
  {
   "cell_type": "markdown",
   "metadata": {},
   "source": [
    "\n",
    "## Preguntas teóricas\n",
    "\n",
    "1. En LDA se menciona que la función a maximizar puede ser, mediante operaciones, convertida en:\n",
    "$$\n",
    "\\log{f_j(x)} =  \\mu_j^T \\Sigma^{-1} (x- \\frac{1}{2} \\mu_j) + C'\n",
    "$$\n",
    "Mostrar los pasos por los cuales se llega a dicha expresión.\n",
    "2. Explicar, utilizando las respectivas funciones a maximizar, por qué QDA y LDA son \"quadratic\" y \"linear\".\n",
    "3. La implementación de QDA estima la probabilidad condicional utilizando `0.5*np.log(det(inv_cov)) -0.5 * unbiased_x.T @ inv_cov @ unbiased_x` que no es *exactamente* lo descrito en el apartado teórico ¿Cuáles son las diferencias y por qué son expresiones equivalentes?\n",
    "\n",
    "El espíritu de esta componente práctica es la de establecer un mínimo de trabajo aceptable para su entrega; se invita al alumno a explorar otros aspectos que generen curiosidad, sin sentirse de ninguna manera limitado por la consigna."
   ]
  },
  {
   "cell_type": "markdown",
   "metadata": {},
   "source": [
    "### 1. En LDA se menciona que la función a maximizar puede ser, mediante operaciones, convertida en:\n",
    "$$\n",
    "\\log{f_j(x)} =  \\mu_j^T \\Sigma^{-1} (x- \\frac{1}{2} \\mu_j) + C'\n",
    "$$\n",
    "Mostrar los pasos por los cuales se llega a dicha expresión."
   ]
  },
  {
   "cell_type": "markdown",
   "metadata": {},
   "source": [
    "Consideraciones:\n",
    "\n",
    "1. $\\mu_j$ y $x$ son vectores en $R^n$. Por razones de simplicidad en la demostración tomaremos $\\mu_j = \\mu$ \n",
    "2. $\\Sigma^{-1}$ es una matriz en $R^{n\\times n}$\n",
    "3. $\\Sigma^{-1}$ es la inversa de la matriz de covarianza $\\Sigma$. Dado que la matriz de covarianza es simétrica entonces su inversa también es simétrica.\n",
    "<p>Tenemos:</p>\n",
    "$$\n",
    "(x-\\mu)^T \\Sigma^{-1} (x- \\mu)\n",
    "$$\n",
    "<p>Apilicamos propiedas distributiva del operador transpuesta:\n",
    "$$\n",
    "(x^T-\\mu^T) \\Sigma^{-1} (x- \\mu)\n",
    "$$\n",
    "<p>Aplicamos propiedad distributiva por derecha:</p>\n",
    "$$\n",
    "(x^T \\cdot \\Sigma^{-1} -\\mu^T \\cdot \\Sigma^{-1}) \\cdot (x- \\mu)\n",
    "$$\n",
    "<p>Volvemos a aplicar propiedad distributiva por derecha:</p>\n",
    "$$\n",
    "x^T \\cdot \\Sigma^{-1} \\cdot (x- \\mu) -\\mu^T \\cdot \\Sigma^{-1} \\cdot (x- \\mu)\n",
    "$$\n",
    "<p>Aplicamos propiedad distributiva por izquierda:</p>\n",
    "$$\n",
    "x^T \\cdot \\Sigma^{-1} \\cdot x - x^T \\cdot \\Sigma^{-1} \\cdot \\mu - \\mu^T \\cdot \\Sigma^{-1} \\cdot x + \\mu^T \\cdot \\Sigma^{-1} \\cdot \\mu\n",
    "$$\n",
    "<p>Dado que $x^T \\cdot \\Sigma^{-1} \\cdot x$ es común en todas las clases lo incorporamos a la constante C'</p>\n",
    "$$\n",
    "- x^T \\cdot \\Sigma^{-1} \\cdot \\mu - \\mu^T \\cdot \\Sigma^{-1} \\cdot x + \\mu^T \\cdot \\Sigma^{-1} \\cdot \\mu\n",
    "$$\n",
    "<p>En este punto, vamos a demostrar que $x^T \\cdot \\Sigma^{-1} \\cdot \\mu = \\mu^T \\cdot \\Sigma^{-1} \\cdot x$</p>\n",
    "$$\n",
    "$x^T \\cdot \\Sigma^{-1} = C => c_j = \\sum_{i=1}^{n} x_i \\cdot \\Sigma^{-1}_{ij}\n",
    "$$\n",
    "$$\n",
    "$x^T \\cdot \\Sigma^{-1} \\cdot \\mu = \\sum_{j=1}^{n} \\sum_{i=1}^{n} x_i \\cdot \\Sigma^{-1}_{ij} \\cdot \\mu_j\n",
    "$$\n",
    "<p>Aplicamos propiedad comutativa y por linealidad intercambiamos las sumatorias</p>\n",
    "$$\n",
    "$x^T \\cdot \\Sigma^{-1} \\cdot \\mu = \\sum_{i=1}^{n} \\sum_{j=1}^{n} \\mu_j \\cdot \\Sigma^{-1}_{ij} \\cdot x_i \n",
    "$$\n",
    "<p>Por úlitmo, dado de $\\Sigma^{-1}$ es simétrica tenemos que $\\Sigma^{-1}_{ij} = \\Sigma^{-1}_{ji}$. Entonces:</p>\n",
    "$$\n",
    "$x^T \\cdot \\Sigma^{-1} \\cdot \\mu_j = \\sum_{i=1}^{n} \\sum_{j=1}^{n} \\mu_j \\cdot \\Sigma^{-1}_{ji} \\cdot x_i = \\sum_{j=1}^{n} \\mu_j \\cdot \\Sigma^{-1}_{ji} \\cdot x = \\mu^T \\cdot \\Sigma^{-1} \\cdot x\n",
    "$$\n",
    "<p>Utilizando la equivalencia, nos queda:</p>\n",
    "$$\n",
    "- \\mu^T \\cdot \\Sigma^{-1} \\cdot x - \\mu^T \\cdot \\Sigma^{-1} \\cdot x+ \\mu^T \\cdot \\Sigma^{-1} \\cdot \\mu\n",
    "$$\n",
    "$$\n",
    "- 2 \\cdot \\mu^T \\cdot \\Sigma^{-1} \\cdot x + \\mu^T \\cdot \\Sigma^{-1} \\cdot \\mu\n",
    "$$\n",
    "$$\n",
    "\\mu^T \\cdot \\Sigma^{-1} (-2x + \\mu)\n",
    "$$\n",
    "<p>Reemplazamos en $ \\log{f_j(x)} = - \\frac{1}{2} (x-\\mu_j)^T \\Sigma^{-1} (x- \\mu_j) + C'$, llegamos al resultado:</p> \n",
    "$$\n",
    "\\log{f_j(x)} =  \\mu_j^T \\cdot \\Sigma^{-1} (x- \\frac{1}{2} \\mu_j) + C'\n",
    "$$"
   ]
  },
  {
   "cell_type": "markdown",
   "metadata": {},
   "source": [
    "## 2. Explicar, utilizando las respectivas funciones a maximizar, por qué QDA y LDA son \"quadratic\" y \"linear\"."
   ]
  },
  {
   "cell_type": "markdown",
   "metadata": {},
   "source": [
    "#### QDA\n",
    "En este caso tenemos que $\\log{f_j(x)} = -\\frac{1}{2}\\log |\\Sigma_j| - \\frac{1}{2} (x-\\mu_j)^T \\Sigma_j^{-1} (x- \\mu_j) + C$ incluye el término cuadrático en $x$ debido a$(x-\\mu_j)^T \\Sigma_j^{-1} (x- \\mu_j)$.\n",
    "\n",
    "#### LDA\n",
    "En este caso tenemos que $\\log{f_j(x)} =  \\mu_j^T \\cdot \\Sigma^{-1} (x- \\frac{1}{2} \\mu_j) + C'$ donde por definición es una función lineal de $x$ toda vez que tanto $\\Sigma^{-1}$ como $\\mu_j\\$ son constantes.\n",
    "\n"
   ]
  },
  {
   "cell_type": "markdown",
   "metadata": {},
   "source": [
    "## 3. La implementación de QDA estima la probabilidad condicional utilizando `0.5*np.log(det(inv_cov)) -0.5 * unbiased_x.T @ inv_cov @ unbiased_x` que no es *exactamente* lo descrito en el apartado teórico ¿Cuáles son las diferencias y por qué son expresiones equivalentes?"
   ]
  },
  {
   "cell_type": "markdown",
   "metadata": {},
   "source": [
    "Teniendo en cuenta que en el entrenamiento se calcula la matriz de covarianza inversa $\\Sigma^{-1}$, en la implementación se hace uso de la propiedad $det(A^{-1}) = \\frac{1}{det(A)}$ para utilizar la matriz inversa en vez de la matriz de covarianza: \n",
    "$$\n",
    " \\log{f_j(x)} = -\\frac{1}{2}\\log |\\Sigma_j| - \\frac{1}{2} (x-\\mu_j)^T \\Sigma_j^{-1} (x- \\mu_j) + C\n",
    "$$\n",
    "$$\n",
    " \\log{f_j(x)} = \\frac{1}{2}\\log |\\Sigma_j|^{-1} - \\frac{1}{2} (x-\\mu_j)^T \\Sigma_j^{-1} (x- \\mu_j) + C\n",
    "$$\n",
    "$$\n",
    "\\log{f_j(x)} = \\frac{1}{2}\\log \\frac{1}{|\\Sigma_j|} - \\frac{1}{2} (x-\\mu_j)^T \\Sigma_j^{-1} (x- \\mu_j) + C\n",
    "$$\n",
    "$$\n",
    "\\log{f_j(x)} = \\frac{1}{2}\\log |\\Sigma_j^{-1}| - \\frac{1}{2} (x-\\mu_j)^T \\Sigma_j^{-1} (x- \\mu_j) + C\n",
    "$$"
   ]
  },
  {
   "cell_type": "markdown",
   "metadata": {
    "id": "CpOoxE2d-mOY"
   },
   "source": [
    "## Ejercicio teórico\n",
    "\n",
    "Sea una red neuronal de dos capas, la primera de 3 neuronas y la segunda de 1 con los parámetros inicializados con los siguientes valores:\n",
    "$$\n",
    "w^{(1)} =\n",
    "\\begin{pmatrix}\n",
    "0.1 & -0.5 \\\\\n",
    "-0.3 & -0.9 \\\\\n",
    "0.8 & 0.02\n",
    "\\end{pmatrix},\n",
    "b^{(1)} = \\begin{pmatrix}\n",
    "0.1 \\\\\n",
    "0.5 \\\\\n",
    "0.8\n",
    "\\end{pmatrix},\n",
    "w^{(2)} =\n",
    "\\begin{pmatrix}\n",
    "-0.4 & 0.2 & -0.5\n",
    "\\end{pmatrix},\n",
    "b^{(2)} = 0.7\n",
    "$$\n",
    "\n",
    "y donde cada capa calcula su salida vía\n",
    "\n",
    "$$\n",
    "y^{(i)} = \\sigma (w^{(i)} \\cdot x^{(i)}+b^{(i)})\n",
    "$$\n",
    "\n",
    "donde $\\sigma (z) = \\frac{1}{1+e^{-z}}$ es la función sigmoidea .\n",
    "\n",
    "\\\\\n",
    "Dada la observación $x=\\begin{pmatrix}\n",
    "1.8 \\\\\n",
    "-3.4\n",
    "\\end{pmatrix}$, $y=5$ y la función de costo $J(\\theta)=\\frac{1}{2}(\\hat{y}_\\theta-y)^2$, calcular las derivadas de J respecto de cada parámetro $w^{(1)}$, $w^{(2)}$, $b^{(1)}$, $b^{(2)}$.\n",
    "\n",
    "*Nota: Con una sigmoidea a la salida jamás va a poder estimar el 5 \"pedido\", pero eso no afecta al mecanismo de backpropagation!*"
   ]
  },
  {
   "cell_type": "markdown",
   "metadata": {},
   "source": [
    "Calculamos los valores de activación para cada capa:\n",
    "\n",
    "Para la primera capa:\n",
    "$$\n",
    "z^{(1)} = w^{(1)} \\cdot x+b^{(1)}\n",
    "$$\n",
    "$$\n",
    "z^{(1)}  = \\begin{pmatrix}\n",
    "0.1 & -0.5 \\\\\n",
    "-0.3 & -0.9 \\\\\n",
    "0.8 & 0.02\n",
    "\\end{pmatrix} \\cdot \\begin{pmatrix}\n",
    "1.8 \\\\\n",
    "-3.4\n",
    "\\end{pmatrix} + \\begin{pmatrix}\n",
    "0.1 \\\\\n",
    "0.5 \\\\\n",
    "0.8\n",
    "\\end{pmatrix} = \\begin{pmatrix}\n",
    "0.1*1.8+0.5*3.4 \\\\\n",
    "-0.3*1.8+0.9*3.4 \\\\\n",
    "0.8*1.8-0.02*3.4\n",
    "\\end{pmatrix} + \\begin{pmatrix}\n",
    "0.1 \\\\\n",
    "0.5 \\\\\n",
    "0.8\n",
    "\\end{pmatrix} = \\begin{pmatrix}\n",
    "1.98 \\\\\n",
    "3.02 \\\\\n",
    "2.172\n",
    "\\end{pmatrix}\n",
    "$$\n",
    "Como $a^{(l)} = \\sigma(z^{(l)})$ es la función de activación sigmoidea.\n",
    "$$\n",
    "a^{(1)} = \\sigma(z^{(1)}) = \\begin{pmatrix}\n",
    "\\frac{1}{1+e^{-1.98}} \\\\\n",
    "\\frac{1}{1+e^{-3.02}} \\\\\n",
    "\\frac{1}{1+e^{-2.172}}\n",
    "\\end{pmatrix} = \\begin{pmatrix}\n",
    "0.8787 \\\\\n",
    "0.9535 \\\\\n",
    "0.8977\n",
    "\\end{pmatrix}\n",
    "$$\n",
    "\n",
    "Para la segunda capa:\n",
    "$$\n",
    "z^{(2)} = w^{(2)} \\cdot a^{(1)}+b^{(2)}\n",
    "$$\n",
    "$$\n",
    "z^{(2)} = \\begin{pmatrix}\n",
    "-0.4 & 0.2 & -0.5\n",
    "\\end{pmatrix} \\cdot \\begin{pmatrix}\n",
    "0.8787 \\\\\n",
    "0.9535 \\\\\n",
    "0.8977\n",
    "\\end{pmatrix} + 0.7 = -0.4*0.8787 + 0.2*0.9535 - 0.5*0.8977 + 0.7 = 0.0904\n",
    "$$\n",
    "$$\n",
    "a^{(2)} = \\sigma(z^{(2)}) = \\frac{1}{1+e^{-0.0904}} = 0.5226\n",
    "$$\n",
    "\n",
    "\n",
    "La función de costo para la salida deseada y la salida estimada es:\n",
    "$$\n",
    "J(\\theta)=\\frac{1}{2}(\\hat{y}_\\theta-y)^2=\\frac{1}{2}(a^{(2)}-y)^2=\\frac{1}{2}(0.5226-5)^2=10.0236\n",
    "$$\n",
    "\n",
    "La derivada de la función de costo con respecto a $\\hat{y}_\\theta$ es:\n",
    "$$\n",
    "\\frac{\\partial J}{\\partial \\hat{y}_\\theta} = (\\hat{y}_\\theta - y)\n",
    "$$\n",
    "\n",
    "La salida de la red neuronal es la sigmoidea aplicada a la entrada de la última capa: $\\hat{y}_\\theta = \\sigma(z^{(2)})$. Entonces, la derivada de $\\hat{y}_\\theta$ con respecto a $z^{(2)}$ es:\n",
    "$$\n",
    "\\frac{\\partial \\hat{y}_\\theta}{\\partial z^{(2)}} = \\sigma'(z^{(2)}) = \\frac{e^{-0.0904}}{(1+e^{-0.0904})^2} = 0.2495\n",
    "$$\n",
    "donde $\\sigma'(z)$ es la derivada de la función sigmoidea.\n",
    "\n",
    "Entonces, la derivada de la función de costo con respecto a $z^{(2)}$ es:\n",
    "$$\n",
    "\\frac{\\partial J}{\\partial z^{(2)}} = \\frac{\\partial J}{\\partial \\hat{y}_\\theta} \\cdot \\frac{\\partial \\hat{y}_\\theta}{\\partial z^{(2)}} = (\\hat{y}_\\theta - y) \\cdot \\sigma'(z^{(2)})\n",
    "$$\n",
    "\n",
    "Como $z^{(2)} = w^{(2)} \\cdot a^{(1)} + b^{(2)}$. Entonces, las derivadas de $z^{(2)}$ con respecto a $w^{(2)}$ y $b^{(2)}$ son:\n",
    "$$\n",
    "\\frac{\\partial z^{(2)}}{\\partial w^{(2)}} = a^{(1)}, \\quad \\frac{\\partial z^{(2)}}{\\partial b^{(2)}} = 1\n",
    "$$\n",
    "\n",
    "Las derivadas de la función de costo con respecto a ( $w^{2}$ ) y ( $b^{2}$ ) son: \n",
    "$$\n",
    "\\frac{\\partial J}{\\partial w^{(2)}} = \\frac{\\partial J}{\\partial z^{(2)}} \\cdot \\frac{\\partial z^{(2)}}{\\partial w^{(2)}} = (\\hat{y}_\\theta - y) \\cdot \\sigma'(z^{(2)}) \\cdot a^{(1)} = (0.5226 - 5) \\cdot 0.2495 \\cdot \\begin{pmatrix}\n",
    "0.8787 \\\\\n",
    "0.9535 \\\\\n",
    "0.8977\n",
    "\\end{pmatrix} = \\begin{pmatrix}\n",
    "-0.9816 \\\\\n",
    "-1.0651 \\\\\n",
    "-1.0028\n",
    "\\end{pmatrix} \n",
    "$$\n",
    "$$\n",
    "\\frac{\\partial J}{\\partial b^{(2)}} = \\frac{\\partial J}{\\partial z^{(2)}} \\cdot \\frac{\\partial z^{(2)}}{\\partial b^{(2)}} = (\\hat{y}_\\theta - y) \\cdot \\sigma'(z^{(2)}) = (0.5226 - 5) \\cdot 0.2495 = -1.1171\n",
    "$$\n",
    "\n",
    "Además, la salida de la primera capa es la sigmoidea aplicada a la entrada de la primera capa, es decir, $a^{(1)} = \\sigma(z^{(1)})$.\n",
    "Entonces, la derivada de $a^{(1)}$ con respecto a $z^{(1)}$ es:\n",
    "$$\n",
    "\\frac{\\partial a^{(1)}}{\\partial z^{(1)}} = \\sigma'(z^{(1)}) = \\begin{pmatrix}\n",
    "\\frac{e^{-1.98}}{(1+e^{-1.98})^2} \\\\\n",
    "\\frac{e^{-3.02}}{(1+e^{-3.02})^2} \\\\\n",
    "\\frac{e^{-2.172}}{(1+e^{-2.172})^2}\n",
    "\\end{pmatrix} = \\begin{pmatrix}\n",
    "0.1066 \\\\\n",
    "0.0444 \\\\\n",
    "0.0918\n",
    "\\end{pmatrix}\n",
    "$$\n",
    "\n",
    "Luego, la derivada de la función de costo con respecto a $z^{(1)}$ es:\n",
    "$$\n",
    "\\frac{\\partial J}{\\partial z^{(1)}} = \\frac{\\partial J}{\\partial a^{(1)}} \\cdot \\frac{\\partial a^{(1)}}{\\partial z^{(1)}} = (\\hat{y}_\\theta - y) \\cdot \\sigma'(z^{(2)}) \\cdot w^{(2)} \\cdot \\sigma'(z^{(1)})\n",
    "$$\n",
    "Como $z^{(1)} = w^{(1)} \\cdot x + b^{(1)}$. Entonces, las derivadas de $z^{(1)}$ con respecto a $w^{(1)}$ y $b^{(1)}$ son:\n",
    "$$\n",
    "\\frac{\\partial z^{(1)}}{\\partial w^{(1)}} = x, \\quad \\frac{\\partial z^{(1)}}{\\partial b^{(1)}} = 1\n",
    "$$\n",
    "Por lo tanto, las derivadas de la función de costo con respecto a ( $w^{1}$ ) y ( $b^{1}$ ) son: \n",
    "$$\n",
    "\\frac{\\partial J}{\\partial w^{(1)}} = \\frac{\\partial J}{\\partial z^{(1)}} \\cdot \\frac{\\partial z^{(1)}}{\\partial w^{(1)}} = (\\hat{y}_\\theta - y) \\cdot \\sigma'(z^{(2)}) \\cdot w^{(2)} \\cdot \\sigma'(z^{(1)}) \\cdot x \n",
    "$$\n",
    "$$\n",
    "\\frac{\\partial J}{\\partial w^{(1)}} = (0.5226 - 5) \\cdot 0.2495 \\cdot \\begin{pmatrix}\n",
    "-0.4 & 0.2 & -0.5\n",
    "\\end{pmatrix} \\cdot \\begin{pmatrix}\n",
    "0.1066 \\\\\n",
    "0.0444 \\\\\n",
    "0.0918\n",
    "\\end{pmatrix} \\cdot \\begin{pmatrix}\n",
    "1.8 & -3.4\n",
    "\\end{pmatrix} = \\begin{pmatrix}\n",
    "0.0857 & -0.1619 \\\\\n",
    "-0.0178 & 0.0337 \\\\\n",
    "0.0923 & -0.1744\n",
    "\\end{pmatrix}\n",
    "$$\n",
    "$$\n",
    "\\frac{\\partial J}{\\partial b^{(1)}} = \\frac{\\partial J}{\\partial z^{(1)}} \\cdot \\frac{\\partial z^{(1)}}{\\partial b^{(1)}} = (\\hat{y}_\\theta - y) \\cdot \\sigma'(z^{(2)}) \\cdot w^{(2)} \\cdot \\sigma'(z^{(1)}) \n",
    "$$\n",
    "$$\n",
    "\\frac{\\partial J}{\\partial b^{(1)}} = (0.5226 - 5) \\cdot 0.2495 \\cdot \\begin{pmatrix}\n",
    "-0.4 & 0.2 & -0.5\n",
    "\\end{pmatrix} \\cdot \\begin{pmatrix}\n",
    "0.1066 \\\\\n",
    "0.0444 \\\\\n",
    "0.0918\n",
    "\\end{pmatrix} = \\begin{pmatrix}\n",
    "0.0476 \\\\\n",
    "-0.0099 \\\\\n",
    "0.0513\n",
    "\\end{pmatrix}\n",
    "$$"
   ]
  },
  {
   "cell_type": "markdown",
   "metadata": {
    "id": "z-CNlW06-i-u"
   },
   "source": [
    "## Preguntas en el código\n",
    "Previamente las preguntas \"técnicas\" en comentarios en el código eran parte del TP, y buscaban que el alumno logre entrar en el detalle de por qué cada linea de código es como es y en el orden en el que está. Ya no forman parte de la consigna, pero se aconseja al alumno intentar responderlas. Las respuestas a las mismas se encuentran en un archivo separado."
   ]
  }
 ],
 "metadata": {
  "colab": {
   "provenance": []
  },
  "kernelspec": {
   "display_name": "Python 3 (ipykernel)",
   "language": "python",
   "name": "python3"
  },
  "language_info": {
   "codemirror_mode": {
    "name": "ipython",
    "version": 3
   },
   "file_extension": ".py",
   "mimetype": "text/x-python",
   "name": "python",
   "nbconvert_exporter": "python",
   "pygments_lexer": "ipython3",
   "version": "3.11.7"
  }
 },
 "nbformat": 4,
 "nbformat_minor": 0
}
